{
 "cells": [
  {
   "cell_type": "code",
   "execution_count": 1,
   "metadata": {},
   "outputs": [],
   "source": [
    "from tdse.propagator.spherical import Propagator_on_Spherical_Box_with_single_m\n",
    "\n",
    "prop = Propagator_on_Spherical_Box_with_single_m(\n",
    "    Nr=51, dr=0.2, m=0, lmax=0, Vr=0.0)"
   ]
  },
  {
   "cell_type": "code",
   "execution_count": 2,
   "metadata": {},
   "outputs": [
    {
     "name": "stdout",
     "output_type": "stream",
     "text": [
      "iteration count at end: 71\n"
     ]
    }
   ],
   "source": [
    "wf_t0 = prop.propagate_to_ground_state(norm_thres=1e-10)"
   ]
  },
  {
   "cell_type": "code",
   "execution_count": 3,
   "metadata": {},
   "outputs": [],
   "source": [
    "wf = wf_t0.copy()"
   ]
  },
  {
   "cell_type": "code",
   "execution_count": 4,
   "metadata": {},
   "outputs": [],
   "source": [
    "Rlm = prop.wf.wf2Rlm(wf)"
   ]
  },
  {
   "cell_type": "code",
   "execution_count": 16,
   "metadata": {},
   "outputs": [
    {
     "data": {
      "text/plain": [
       "((0.014371910463708564+0j),\n",
       " array([-0.00144066+0.j,  0.        +0.j,  0.        +0.j]))"
      ]
     },
     "execution_count": 16,
     "metadata": {},
     "output_type": "execute_result"
    }
   ],
   "source": [
    "prop.wf.eval_wf_with_wf_deriv_at_q([3.1, 1.8, 0.0], Rlm)"
   ]
  },
  {
   "cell_type": "code",
   "execution_count": 13,
   "metadata": {},
   "outputs": [],
   "source": [
    "import numpy as np\n",
    "# from numpy import pi"
   ]
  },
  {
   "cell_type": "code",
   "execution_count": 43,
   "metadata": {},
   "outputs": [],
   "source": [
    "r_arr = np.linspace(0., prop.wf.r_max-1e-8, num=21)\n",
    "theta_arr = np.linspace(0., pi, num=29)\n",
    "phi = 0.0"
   ]
  },
  {
   "cell_type": "code",
   "execution_count": 44,
   "metadata": {},
   "outputs": [],
   "source": [
    "wf_sph = np.empty((r_arr.size, theta_arr.size), dtype=np.complex)\n",
    "dq_wf_sph = np.empty((prop.wf.dim, r_arr.size, theta_arr.size), dtype=np.complex)\n",
    "for ind in np.ndindex(*wf_sph.shape):\n",
    "    r, theta = r_arr[ind[0]], theta_arr[ind[1]]\n",
    "    wf_sph[ind], dq_wf_sph[np.index_exp[:]+ind] = prop.wf.eval_wf_with_wf_deriv_at_q([r,theta,phi], Rlm)"
   ]
  },
  {
   "cell_type": "code",
   "execution_count": 45,
   "metadata": {},
   "outputs": [],
   "source": [
    "from vis.plot import construct_polar_mesh_for_colormesh\n",
    "r_cmesh, theta_cmesh = construct_polar_mesh_for_colormesh(r_arr, theta_arr)"
   ]
  },
  {
   "cell_type": "code",
   "execution_count": 46,
   "metadata": {},
   "outputs": [],
   "source": [
    "import matplotlib.pyplot as plt"
   ]
  },
  {
   "cell_type": "code",
   "execution_count": 48,
   "metadata": {},
   "outputs": [
    {
     "data": {
      "image/png": "[encoded data removed]",
      "text/plain": [
       "<Figure size 432x288 with 1 Axes>"
      ]
     },
     "metadata": {
      "needs_background": "light"
     },
     "output_type": "display_data"
    }
   ],
   "source": [
    "fig, ax = plt.subplots()\n",
    "ax.pcolormesh(r_cmesh, theta_cmesh, wf_sph.real)\n",
    "ax.set_aspect(1.0)\n",
    "ax.set_ylim(0,r_arr[-1]), ax.set_xlim(-r_arr[-1],r_arr[-1])\n",
    "fig.tight_layout()\n",
    "# fig.savefig(\"wf-interp-test-2.png\")"
   ]
  },
  {
   "cell_type": "code",
   "execution_count": 49,
   "metadata": {},
   "outputs": [],
   "source": [
    "from tdse.analytic import spherical_jn_zeros\n",
    "\n",
    "jl_zero_1 = spherical_jn_zeros(0, 1)"
   ]
  },
  {
   "cell_type": "code",
   "execution_count": 65,
   "metadata": {},
   "outputs": [],
   "source": [
    "from scipy.special import spherical_jn\n",
    "\n",
    "R00 = spherical_jn(0, (jl_zero_1 / prop.r_max) * r_arr)\n",
    "g00 = r_arr * R00\n",
    "# prop.wf_class.normalize(g00, prop.dr)"
   ]
  },
  {
   "cell_type": "code",
   "execution_count": 66,
   "metadata": {},
   "outputs": [
    {
     "data": {
      "text/plain": [
       "array([1.00000000e+00, 9.95892735e-01, 9.83631643e-01, 9.63397762e-01,\n",
       "       9.35489284e-01, 9.00316316e-01, 8.58393692e-01, 8.10331958e-01,\n",
       "       7.56826729e-01, 6.98646586e-01, 6.36619773e-01, 5.71619934e-01,\n",
       "       5.04551153e-01, 4.36332594e-01, 3.67883011e-01, 3.00105440e-01,\n",
       "       2.33872322e-01, 1.70011371e-01, 1.09292406e-01, 5.24154081e-02,\n",
       "       9.61538546e-10])"
      ]
     },
     "execution_count": 66,
     "metadata": {},
     "output_type": "execute_result"
    }
   ],
   "source": [
    "R00"
   ]
  },
  {
   "cell_type": "code",
   "execution_count": 67,
   "metadata": {},
   "outputs": [
    {
     "data": {
      "text/plain": [
       "array([1.67275332e-02+0.j, 1.66386827e-02+0.j, 1.64339983e-02+0.j,\n",
       "       1.60962066e-02+0.j, 1.56302705e-02+0.j, 1.50430186e-02+0.j,\n",
       "       1.43430210e-02+0.j, 1.35404507e-02+0.j, 1.26468978e-02+0.j,\n",
       "       1.16751757e-02+0.j, 1.06390992e-02+0.j, 9.55324616e-03+0.j,\n",
       "       8.43271178e-03+0.j, 7.29284980e-03+0.j, 6.14901553e-03+0.j,\n",
       "       5.01630810e-03+0.j, 3.90932353e-03+0.j, 2.84191278e-03+0.j,\n",
       "       1.82696457e-03+0.j, 8.76201199e-04+0.j, 1.60731545e-11+0.j])"
      ]
     },
     "execution_count": 67,
     "metadata": {},
     "output_type": "execute_result"
    }
   ],
   "source": [
    "wf_sph[:,0]"
   ]
  },
  {
   "cell_type": "code",
   "execution_count": 77,
   "metadata": {},
   "outputs": [
    {
     "data": {
      "text/plain": [
       "[<matplotlib.lines.Line2D at 0x7f50a49d68b0>]"
      ]
     },
     "execution_count": 77,
     "metadata": {},
     "output_type": "execute_result"
    },
    {
     "data": {
      "image/png": "[encoded data removed]",
      "text/plain": [
       "<Figure size 432x288 with 1 Axes>"
      ]
     },
     "metadata": {
      "needs_background": "light"
     },
     "output_type": "display_data"
    }
   ],
   "source": [
    "fig, ax = plt.subplots()\n",
    "ax.plot(r_arr, R00*0.0168)\n",
    "ax.plot(r_arr, wf_sph[:,0].real, '.')"
   ]
  },
  {
   "cell_type": "code",
   "execution_count": 15,
   "metadata": {},
   "outputs": [
    {
     "data": {
      "text/plain": [
       "<module 'tdse.propagator._base' from '/home/ahn/Dropbox/py/proj/tdse/tdse/propagator/_base.py'>"
      ]
     },
     "execution_count": 15,
     "metadata": {},
     "output_type": "execute_result"
    }
   ],
   "source": [
    "from importlib import reload\n",
    "\n",
    "import tdse.propagator.spherical\n",
    "reload(tdse.propagator.spherical)\n",
    "import tdse.propagator._base\n",
    "reload(tdse.propagator._base)"
   ]
  }
 ],
 "metadata": {
  "kernelspec": {
   "display_name": "Python 3",
   "language": "python",
   "name": "python3"
  },
  "language_info": {
   "codemirror_mode": {
    "name": "ipython",
    "version": 3
   },
   "file_extension": ".py",
   "mimetype": "text/x-python",
   "name": "python",
   "nbconvert_exporter": "python",
   "pygments_lexer": "ipython3",
   "version": "3.8.1"
  }
 },
 "nbformat": 4,
 "nbformat_minor": 4
}
