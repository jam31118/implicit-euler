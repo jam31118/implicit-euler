{
 "cells": [
  {
   "cell_type": "markdown",
   "metadata": {},
   "source": [
    "# Assumptions\n",
    "\n",
    "- Equidistanced spatial grid"
   ]
  },
  {
   "cell_type": "code",
   "execution_count": 1,
   "metadata": {},
   "outputs": [],
   "source": [
    "import numpy as np\n",
    "from numpy import pi\n",
    "import matplotlib.pyplot as plt"
   ]
  },
  {
   "cell_type": "markdown",
   "metadata": {},
   "source": [
    "#### Configure time array"
   ]
  },
  {
   "cell_type": "code",
   "execution_count": 2,
   "metadata": {},
   "outputs": [
    {
     "name": "stdout",
     "output_type": "stream",
     "text": [
      "time range: [0.0, 2.5] a.u.\n"
     ]
    }
   ],
   "source": [
    "t0 = 0.0\n",
    "Nt = 201\n",
    "dt = 0.0125\n",
    "\n",
    "t_arr = t0 + dt*np.arange(Nt)\n",
    "print(\"time range: [{}, {}] a.u.\".format(*t_arr[[0,-1]]))"
   ]
  },
  {
   "cell_type": "markdown",
   "metadata": {},
   "source": [
    "#### Configure spatial array"
   ]
  },
  {
   "cell_type": "code",
   "execution_count": 3,
   "metadata": {},
   "outputs": [
    {
     "name": "stdout",
     "output_type": "stream",
     "text": [
      "dx: 0.01275\n"
     ]
    }
   ],
   "source": [
    "Nx = 401\n",
    "x_arr = np.linspace(0, 5.1, Nx)\n",
    "dx = x_arr[1] - x_arr[0]\n",
    "L = x_arr[-1] - x_arr[0]\n",
    "print(\"dx: {}\".format(dx))"
   ]
  },
  {
   "cell_type": "markdown",
   "metadata": {},
   "source": [
    "#### Configure spatial potential energy"
   ]
  },
  {
   "cell_type": "code",
   "execution_count": 4,
   "metadata": {},
   "outputs": [],
   "source": [
    "Vx = np.zeros_like(x_arr, dtype=float)"
   ]
  },
  {
   "cell_type": "markdown",
   "metadata": {},
   "source": [
    "#### Configure initial state"
   ]
  },
  {
   "cell_type": "code",
   "execution_count": 5,
   "metadata": {},
   "outputs": [],
   "source": [
    "wf_x_t0 = np.empty_like(x_arr, dtype=complex)\n",
    "wf_x_t0[:] = np.sin(pi/L*x_arr) + 0.3*np.sin(2*pi/L*x_arr)\n",
    "wf_x_t0 /= np.sqrt(np.trapz(np.square(np.abs(wf_x_t0)), x_arr))"
   ]
  },
  {
   "cell_type": "markdown",
   "metadata": {},
   "source": [
    "#### Configure unit"
   ]
  },
  {
   "cell_type": "code",
   "execution_count": 6,
   "metadata": {},
   "outputs": [],
   "source": [
    "hbar, m = 1.0, 1.0"
   ]
  },
  {
   "cell_type": "markdown",
   "metadata": {},
   "source": [
    "#### Configure propagator"
   ]
  },
  {
   "cell_type": "code",
   "execution_count": 7,
   "metadata": {},
   "outputs": [],
   "source": [
    "from tdse.prop.propagator import Time_Indep_Hamil_Propagator\n",
    "\n",
    "prop = Time_Indep_Hamil_Propagator(Nx-2, dx, Vx[1:-1], m=1.0)"
   ]
  },
  {
   "cell_type": "markdown",
   "metadata": {},
   "source": [
    "#### Configure particles"
   ]
  },
  {
   "cell_type": "code",
   "execution_count": 8,
   "metadata": {},
   "outputs": [],
   "source": [
    "xp_t0_arr = np.array([0.3, 0.6, 3.4])"
   ]
  },
  {
   "cell_type": "markdown",
   "metadata": {},
   "source": [
    "# Propagate"
   ]
  },
  {
   "cell_type": "code",
   "execution_count": 9,
   "metadata": {},
   "outputs": [],
   "source": [
    "from warnings import filterwarnings\n",
    "filterwarnings('error')"
   ]
  },
  {
   "cell_type": "markdown",
   "metadata": {},
   "source": [
    "# for 3 or more FD .. n! should be added"
   ]
  },
  {
   "cell_type": "code",
   "execution_count": 10,
   "metadata": {},
   "outputs": [],
   "source": [
    "# Initialize\n",
    "xp_arr = np.empty_like(xp_t0_arr)\n",
    "xp_arr[:] = xp_t0_arr\n",
    "xp_arr_t = np.zeros((Nt, xp_arr.size))\n",
    "xp_arr_t[0,:] = xp_arr\n",
    "\n",
    "wf_x = np.empty_like(wf_x_t0)\n",
    "wf_x[:] = wf_x_t0\n",
    "wf_x_t = np.zeros((Nt,wf_x.size), dtype=wf_x.dtype)\n",
    "wf_x_t[0,:] = wf_x\n",
    "\n",
    "\n",
    "# Arrays for Finite Difference method\n",
    "Ns = 3\n",
    "A = np.empty((Ns,Ns), dtype=float)\n",
    "A[:,0] = 1.\n",
    "b = np.empty((Ns,), dtype=complex)\n",
    "\n",
    "\n",
    "# iteration over time\n",
    "from scipy.optimize import root\n",
    "\n",
    "assert np.std(np.diff(x_arr)) < 1e-8 * np.mean(x_arr)\n",
    "\n",
    "g_func, g_args = None, None\n",
    "dxp_g_list = None\n",
    "\n",
    "for it in range(Nt):\n",
    "#     print(\"time-index: {}\".format(it))\n",
    "    prop.propagate(wf_x[1:-1], dt, Nt=1)\n",
    "    \n",
    "    for ip, xp in enumerate(xp_arr):\n",
    "#         print(\"particle-index: {} / particle-position: {}\".format(ip, xp))\n",
    "        if not (x_arr[0] < xp and xp < x_arr[-1]): continue\n",
    "\n",
    "            \n",
    "        def _g_func(_dxp, _xp, _x_arr, _wf_arr, _dt, _A, _b, _hbar, _m):\n",
    "            \n",
    "            _x = _xp + _dxp\n",
    "            _dx = _x_arr[1] - _x_arr[0]\n",
    "            \n",
    "            _is0 = int((_x-_x_arr[0])//_dx)\n",
    "            _Nx = _wf_arr.size\n",
    "            if _is0 > _Nx//2: _is0 += -1\n",
    "            _xi_minus_x = (_x_arr[_is0:_is0+Ns] - _x)\n",
    "            _A[:,1] = _A[:,0] * _xi_minus_x / 1.\n",
    "            _A[:,2] = _A[:,1] * _xi_minus_x / 2.\n",
    "            _b[:] = _wf_arr[_is0:_is0+Ns]\n",
    "            \n",
    "            try: _wf, _dx_wf, _dx2_wf = np.linalg.solve(_A, _b)\n",
    "            except np.linalg.LinAlgError as e:\n",
    "                raise RuntimeError(\"Failed to get wf at given x: {}\".format(_x))\n",
    "            except: raise Exception(\"Unexpected error\")\n",
    "                \n",
    "            if _wf == 0: raise NotImplementedError\n",
    "                \n",
    "            _v = _hbar / _m * np.imag(_dx_wf / _wf)\n",
    "            \n",
    "            _g = -_dxp + _dt * _v\n",
    "            return _g\n",
    "        \n",
    "        _g_args = (xp, x_arr, wf_x, dt, A, b, hbar, m)\n",
    "        \n",
    "        _dxp_g_list = []\n",
    "        def callback(dxp,g): _dxp_g_list.append((dxp[0],g[0])), print(dxp,g)\n",
    "        _opt_broyden1 = {'xtol':1e-4, 'xatol':1e2, 'fatol':6e-3, 'ftol':1e4}\n",
    "        _tot_opt = { 'method':'broyden1', 'options': _opt_broyden1}\n",
    "        \n",
    "        _failed = False\n",
    "        try: _sol = root(_g_func, 0.0, _g_args, **_tot_opt)\n",
    "        except Exception as e:\n",
    "            _tot_opt_at_err = { 'method':'broyden1', 'options': {**_opt_broyden1, 'disp':True}}\n",
    "            try: _sol = root(_g_func, 0.0, _g_args, callback=callback, **_tot_opt_at_err)\n",
    "            except: pass\n",
    "            \n",
    "            g_func, g_args = _g_func, _g_args\n",
    "            dxp_g_list = _dxp_g_list\n",
    "            \n",
    "            _msg = \"Failed for time-index={}, particle-position={:.4f}\\n\"\n",
    "            raise Exception(_msg.format(it, xp))\n",
    "            \n",
    "        if not _sol.success:\n",
    "            try: _sol = root(_g_func, 0.0, _g_args, callback=callback, **_tot_opt)\n",
    "            except: pass\n",
    "            g_func, g_args = _g_func, _g_args\n",
    "            dxp_g_list = _dxp_g_list\n",
    "            _msg = \"Failed for time-index={}, particle-position={:.4f}\\nopt_result:\\n{}\"\n",
    "            raise Exception(_msg.format(it, xp, _sol))\n",
    "            \n",
    "        _dxp = _sol.x\n",
    "        xp_arr[ip] += _dxp\n",
    "        \n",
    "        \n",
    "        # Store\n",
    "        xp_arr_t[it,:] = xp_arr\n",
    "        wf_x_t[it,:] = wf_x"
   ]
  },
  {
   "cell_type": "markdown",
   "metadata": {},
   "source": [
    "#### Visualize"
   ]
  },
  {
   "cell_type": "code",
   "execution_count": 11,
   "metadata": {},
   "outputs": [],
   "source": [
    "pdf_x_t = np.square(np.abs(wf_x_t))"
   ]
  },
  {
   "cell_type": "code",
   "execution_count": 12,
   "metadata": {},
   "outputs": [
    {
     "data": {
      "image/png": "[encoded data removed]",
      "text/plain": [
       "<Figure size 432x288 with 1 Axes>"
      ]
     },
     "metadata": {
      "needs_background": "light"
     },
     "output_type": "display_data"
    }
   ],
   "source": [
    "fig, ax = plt.subplots()\n",
    "\n",
    "img_extent = (*x_arr[[0,-1]], *t_arr[[0,-1]])\n",
    "ax.imshow(pdf_x_t, origin='lower', extent=img_extent, cmap='gray')\n",
    "\n",
    "for ip in range(xp_t0_arr.size):\n",
    "    ax.plot(xp_arr_t[:,ip], t_arr, '.-', color='white', mfc='black')\n",
    "    \n",
    "ax.set_xlabel(\"position x / a.u.\"), ax.set_ylabel(\"time / a.u.\")\n",
    "fig.tight_layout()\n",
    "\n",
    "# fig.savefig(\"particles-test-6.png\")"
   ]
  },
  {
   "cell_type": "markdown",
   "metadata": {},
   "source": [
    "# ETC>"
   ]
  },
  {
   "cell_type": "code",
   "execution_count": 12,
   "metadata": {},
   "outputs": [
    {
     "data": {
      "text/plain": [
       "array([[ 1.26920039e-05,  3.53394514e-03],\n",
       "       [ 3.56307329e-03, -8.82367992e-05],\n",
       "       [ 3.47658557e-03,  8.61386134e-05],\n",
       "       [ 3.51930910e-03, -4.46729383e-05],\n",
       "       [ 3.50471875e-03, -3.01493803e-05],\n",
       "       [ 3.50295255e-03, -2.83912664e-05],\n",
       "       [ 3.50147767e-03, -2.69231310e-05],\n",
       "       [ 3.50147141e-03, -2.69168976e-05],\n",
       "       [ 3.50146516e-03, -2.69106760e-05],\n",
       "       [ 3.50145892e-03, -2.69044662e-05],\n",
       "       [ 3.50145269e-03, -2.68982682e-05],\n",
       "       [ 3.50144648e-03, -2.68920819e-05],\n",
       "       [ 3.50144027e-03, -2.68859073e-05],\n",
       "       [ 3.50143408e-03, -2.68797443e-05],\n",
       "       [ 3.50142790e-03, -2.68735929e-05],\n",
       "       [ 3.50142173e-03, -2.68674530e-05],\n",
       "       [ 3.50141558e-03, -2.68613247e-05],\n",
       "       [ 3.50140943e-03, -2.68552078e-05],\n",
       "       [ 3.50140330e-03, -2.68491023e-05],\n",
       "       [ 3.50139718e-03, -2.68430082e-05],\n",
       "       [ 3.50139107e-03, -2.68369254e-05],\n",
       "       [ 3.50138497e-03, -2.68308540e-05],\n",
       "       [ 3.50137888e-03, -2.68247938e-05],\n",
       "       [ 3.50137280e-03, -2.68187448e-05],\n",
       "       [ 3.50136674e-03, -2.68127070e-05],\n",
       "       [ 3.50136068e-03, -2.68066803e-05],\n",
       "       [ 3.50135464e-03, -2.68006647e-05],\n",
       "       [ 3.50134861e-03, -2.67946602e-05],\n",
       "       [ 3.50134258e-03, -2.67886668e-05],\n",
       "       [ 3.50133657e-03, -2.67826843e-05],\n",
       "       [ 3.50133058e-03, -2.67767127e-05],\n",
       "       [ 3.50132459e-03, -2.67707521e-05],\n",
       "       [ 3.50131861e-03, -2.67648023e-05],\n",
       "       [ 3.50131264e-03, -2.67588634e-05],\n",
       "       [ 3.50130669e-03, -2.67529352e-05],\n",
       "       [ 3.50130074e-03, -2.67470178e-05],\n",
       "       [ 3.50129481e-03, -2.67411112e-05],\n",
       "       [ 3.50128889e-03, -2.67352152e-05],\n",
       "       [ 3.50128298e-03, -2.67293298e-05],\n",
       "       [ 3.50127707e-03, -2.67234551e-05],\n",
       "       [ 3.50127118e-03, -2.67175909e-05],\n",
       "       [ 3.50126530e-03, -2.67117373e-05],\n",
       "       [ 3.50125943e-03, -2.67058942e-05],\n",
       "       [ 3.50125357e-03, -2.67000615e-05],\n",
       "       [ 3.50124772e-03, -2.66942393e-05],\n",
       "       [ 3.50124188e-03, -2.66884274e-05],\n",
       "       [ 3.50123606e-03, -2.66826259e-05],\n",
       "       [ 3.50123024e-03, -2.66768347e-05],\n",
       "       [ 3.50122443e-03, -2.66710539e-05],\n",
       "       [ 3.50121863e-03, -2.66652832e-05],\n",
       "       [ 3.50121285e-03, -2.66595228e-05],\n",
       "       [ 3.50120707e-03, -2.66537726e-05],\n",
       "       [ 3.50120130e-03, -2.66480325e-05],\n",
       "       [ 3.50119555e-03, -2.66423025e-05],\n",
       "       [ 3.50118980e-03, -2.66365826e-05],\n",
       "       [ 3.50118407e-03, -2.66308727e-05],\n",
       "       [ 3.50117834e-03, -2.66251729e-05],\n",
       "       [ 3.50117262e-03, -2.66194830e-05],\n",
       "       [ 3.50116692e-03, -2.66138031e-05],\n",
       "       [ 3.50116122e-03, -2.66081331e-05],\n",
       "       [ 3.50115553e-03, -2.66024729e-05],\n",
       "       [ 3.50114986e-03, -2.65968226e-05],\n",
       "       [ 3.50114419e-03, -2.65911821e-05],\n",
       "       [ 3.50113854e-03, -2.65855514e-05],\n",
       "       [ 3.50113289e-03, -2.65799305e-05],\n",
       "       [ 3.50112725e-03, -2.65743192e-05],\n",
       "       [ 3.50112162e-03, -2.65687177e-05],\n",
       "       [ 3.50111601e-03, -2.65631258e-05],\n",
       "       [ 3.50111040e-03, -2.65575435e-05],\n",
       "       [ 3.50110480e-03, -2.65519708e-05],\n",
       "       [ 3.50109921e-03, -2.65464076e-05],\n",
       "       [ 3.50109363e-03, -2.65408540e-05],\n",
       "       [ 3.50108806e-03, -2.65353099e-05],\n",
       "       [ 3.50108250e-03, -2.65297752e-05],\n",
       "       [ 3.50107695e-03, -2.65242500e-05],\n",
       "       [ 3.50107141e-03, -2.65187341e-05],\n",
       "       [ 3.50106588e-03, -2.65132277e-05],\n",
       "       [ 3.50106036e-03, -2.65077306e-05],\n",
       "       [ 3.50105484e-03, -2.65022427e-05],\n",
       "       [ 3.50104934e-03, -2.64967642e-05],\n",
       "       [ 3.50104385e-03, -2.64912949e-05],\n",
       "       [ 3.50103836e-03, -2.64858348e-05],\n",
       "       [ 3.50103288e-03, -2.64803840e-05],\n",
       "       [ 3.50102742e-03, -2.64749422e-05],\n",
       "       [ 3.50102196e-03, -2.64695097e-05],\n",
       "       [ 3.50101651e-03, -2.64640862e-05],\n",
       "       [ 3.50101107e-03, -2.64586718e-05],\n",
       "       [ 3.50100564e-03, -2.64532664e-05],\n",
       "       [ 3.50100022e-03, -2.64478700e-05],\n",
       "       [ 3.50099481e-03, -2.64424827e-05],\n",
       "       [ 3.50098941e-03, -2.64371042e-05],\n",
       "       [ 3.50098401e-03, -2.64317348e-05],\n",
       "       [ 3.50097863e-03, -2.64263742e-05],\n",
       "       [ 3.50097325e-03, -2.64210225e-05],\n",
       "       [ 3.50096788e-03, -2.64156796e-05],\n",
       "       [ 3.50096252e-03, -2.64103455e-05],\n",
       "       [ 3.50096168e-03, -2.64095015e-05],\n",
       "       [ 3.50096147e-03, -2.64092915e-05],\n",
       "       [ 3.50096125e-03, -2.64090816e-05],\n",
       "       [ 3.47443073e-03,  8.82834081e-05],\n",
       "       [ 3.49485234e-03,  6.79569485e-05],\n",
       "       [ 3.51507649e-03, -4.04597111e-05],\n",
       "       [ 3.50752910e-03, -3.29468624e-05],\n",
       "       [ 3.50522423e-03, -3.06525424e-05],\n",
       "       [ 3.50336812e-03, -2.88049280e-05],\n",
       "       [ 3.50182782e-03, -2.72716807e-05],\n",
       "       [ 3.50182086e-03, -2.72647514e-05],\n",
       "       [ 3.50181391e-03, -2.72578365e-05],\n",
       "       [ 3.50180698e-03, -2.72509361e-05],\n",
       "       [ 3.50180006e-03, -2.72440500e-05],\n",
       "       [ 3.50179316e-03, -2.72371783e-05],\n",
       "       [ 3.50178627e-03, -2.72303209e-05],\n",
       "       [ 3.50177940e-03, -2.72234777e-05],\n",
       "       [ 3.50177253e-03, -2.72166486e-05],\n",
       "       [ 3.50176569e-03, -2.72098337e-05],\n",
       "       [ 3.50175886e-03, -2.72030328e-05],\n",
       "       [ 3.50175204e-03, -2.71962458e-05],\n",
       "       [ 3.50174523e-03, -2.71894729e-05],\n",
       "       [ 3.50173844e-03, -2.71827138e-05],\n",
       "       [ 3.50173167e-03, -2.71759685e-05],\n",
       "       [ 3.50172491e-03, -2.71692370e-05],\n",
       "       [ 3.50171816e-03, -2.71625192e-05],\n",
       "       [ 3.50171142e-03, -2.71558151e-05],\n",
       "       [ 3.50170470e-03, -2.71491247e-05],\n",
       "       [ 3.50169799e-03, -2.71424477e-05],\n",
       "       [ 3.50169130e-03, -2.71357843e-05],\n",
       "       [ 3.50168462e-03, -2.71291343e-05],\n",
       "       [ 3.50167795e-03, -2.71224978e-05],\n",
       "       [ 3.50167130e-03, -2.71158746e-05],\n",
       "       [ 3.50166466e-03, -2.71092647e-05],\n",
       "       [ 3.50165803e-03, -2.71026680e-05],\n",
       "       [ 3.50165142e-03, -2.70960845e-05],\n",
       "       [ 3.50164482e-03, -2.70895142e-05],\n",
       "       [ 3.50163823e-03, -2.70829570e-05],\n",
       "       [ 3.50163165e-03, -2.70764128e-05],\n",
       "       [ 3.50162509e-03, -2.70698817e-05],\n",
       "       [ 3.50161854e-03, -2.70633634e-05],\n",
       "       [ 3.50161201e-03, -2.70568581e-05],\n",
       "       [ 3.50160549e-03, -2.70503657e-05],\n",
       "       [ 3.50159898e-03, -2.70438860e-05],\n",
       "       [ 3.50159248e-03, -2.70374191e-05],\n",
       "       [ 3.50158600e-03, -2.70309649e-05],\n",
       "       [ 3.50157953e-03, -2.70245233e-05],\n",
       "       [ 3.50157307e-03, -2.70180944e-05],\n",
       "       [ 3.50156662e-03, -2.70116780e-05],\n",
       "       [ 3.50156019e-03, -2.70052741e-05],\n",
       "       [ 3.50155377e-03, -2.69988827e-05],\n",
       "       [ 3.50154736e-03, -2.69925038e-05],\n",
       "       [ 3.50154096e-03, -2.69861372e-05],\n",
       "       [ 3.50153458e-03, -2.69797829e-05],\n",
       "       [ 3.50152821e-03, -2.69734409e-05],\n",
       "       [ 3.50152185e-03, -2.69671112e-05],\n",
       "       [ 3.50151550e-03, -2.69607936e-05],\n",
       "       [ 3.50150917e-03, -2.69544882e-05],\n",
       "       [ 3.50150285e-03, -2.69481950e-05],\n",
       "       [ 3.50149654e-03, -2.69419137e-05],\n",
       "       [ 3.50149024e-03, -2.69356445e-05],\n",
       "       [ 3.50148395e-03, -2.69293873e-05],\n",
       "       [ 3.50147768e-03, -2.69231420e-05],\n",
       "       [ 3.50147142e-03, -2.69169085e-05],\n",
       "       [ 3.50146517e-03, -2.69106869e-05],\n",
       "       [ 3.50145893e-03, -2.69044772e-05],\n",
       "       [ 3.50145270e-03, -2.68982791e-05],\n",
       "       [ 3.50144649e-03, -2.68920928e-05],\n",
       "       [ 3.50144028e-03, -2.68859182e-05],\n",
       "       [ 3.50143409e-03, -2.68797551e-05],\n",
       "       [ 3.50142791e-03, -2.68736037e-05],\n",
       "       [ 3.50142174e-03, -2.68674638e-05],\n",
       "       [ 3.50141559e-03, -2.68613354e-05],\n",
       "       [ 3.50140944e-03, -2.68552185e-05],\n",
       "       [ 3.50140331e-03, -2.68491130e-05],\n",
       "       [ 3.50139719e-03, -2.68430189e-05],\n",
       "       [ 3.50139108e-03, -2.68369361e-05],\n",
       "       [ 3.50138498e-03, -2.68308646e-05],\n",
       "       [ 3.50137889e-03, -2.68248044e-05],\n",
       "       [ 3.50137281e-03, -2.68187554e-05],\n",
       "       [ 3.50136675e-03, -2.68127176e-05],\n",
       "       [ 3.50136069e-03, -2.68066909e-05],\n",
       "       [ 3.50135465e-03, -2.68006753e-05],\n",
       "       [ 3.50134862e-03, -2.67946708e-05],\n",
       "       [ 3.50134260e-03, -2.67886773e-05],\n",
       "       [ 3.50133659e-03, -2.67826948e-05],\n",
       "       [ 3.50133059e-03, -2.67767232e-05],\n",
       "       [ 3.50132460e-03, -2.67707626e-05],\n",
       "       [ 3.50131862e-03, -2.67648128e-05],\n",
       "       [ 3.50131265e-03, -2.67588738e-05],\n",
       "       [ 3.50130670e-03, -2.67529456e-05],\n",
       "       [ 3.50130075e-03, -2.67470282e-05],\n",
       "       [ 3.50129482e-03, -2.67411216e-05],\n",
       "       [ 3.50128890e-03, -2.67352255e-05],\n",
       "       [ 3.50128299e-03, -2.67293402e-05],\n",
       "       [ 3.50127708e-03, -2.67234654e-05],\n",
       "       [ 3.50127119e-03, -2.67176012e-05],\n",
       "       [ 3.50126531e-03, -2.67117476e-05],\n",
       "       [ 3.50125944e-03, -2.67059044e-05],\n",
       "       [ 3.50125358e-03, -2.67000718e-05],\n",
       "       [ 3.50124773e-03, -2.66942495e-05],\n",
       "       [ 3.50124189e-03, -2.66884376e-05],\n",
       "       [ 3.50123607e-03, -2.66826361e-05],\n",
       "       [ 3.50123025e-03, -2.66768449e-05]])"
      ]
     },
     "execution_count": 12,
     "metadata": {},
     "output_type": "execute_result"
    }
   ],
   "source": [
    "dxp_g_arr = np.asarray(dxp_g_list)\n",
    "dxp_g_arr"
   ]
  },
  {
   "cell_type": "code",
   "execution_count": 29,
   "metadata": {},
   "outputs": [],
   "source": [
    "if dxp_g_arr.size > 0:\n",
    "    np.average(dxp_g_arr[:,1])"
   ]
  },
  {
   "cell_type": "code",
   "execution_count": 30,
   "metadata": {},
   "outputs": [
    {
     "data": {
      "text/plain": [
       "(-5e-05, 5e-05)"
      ]
     },
     "execution_count": 30,
     "metadata": {},
     "output_type": "execute_result"
    },
    {
     "data": {
      "image/png": "[encoded data removed]",
      "text/plain": [
       "<Figure size 432x288 with 1 Axes>"
      ]
     },
     "metadata": {
      "needs_background": "light"
     },
     "output_type": "display_data"
    }
   ],
   "source": [
    "fig, ax = plt.subplots()\n",
    "ax.plot(dxp_g_arr[:,1])\n",
    "# ax2 = ax.twinx()\n",
    "# ax2.plot(np.diff(dxp_g_arr[:,1]), color='darksalmon')\n",
    "ax.set_ylim(-0.00005, 0.00005)"
   ]
  },
  {
   "cell_type": "code",
   "execution_count": 55,
   "metadata": {},
   "outputs": [],
   "source": [
    "xp = g_args[0]\n",
    "x_minus_xp_arr = x_arr - xp"
   ]
  },
  {
   "cell_type": "code",
   "execution_count": 38,
   "metadata": {},
   "outputs": [],
   "source": [
    "dxp_g_median = np.median(dxp_g_arr[:,0])\n",
    "dxp_arr = np.linspace(dxp_g_median-0.0001,dxp_g_median+0.0001,101)\n",
    "g_arr = np.asarray([g_func(dxp, *g_args) for dxp in dxp_arr])"
   ]
  },
  {
   "cell_type": "markdown",
   "metadata": {},
   "source": [
    "# [OBSERVATION] There is a discontinous point of `g(dxp)` at `dxp` when `x + dxp` coincides one of the `x_arr` grid points. This comes from the discontinous nature of `dx_wf(x)` because the use of just two stencil finite-difference method."
   ]
  },
  {
   "cell_type": "code",
   "execution_count": 12,
   "metadata": {},
   "outputs": [
    {
     "ename": "NameError",
     "evalue": "name 'dxp_arr' is not defined",
     "output_type": "error",
     "traceback": [
      "\u001b[0;31m---------------------------------------------------------------------------\u001b[0m",
      "\u001b[0;31mNameError\u001b[0m                                 Traceback (most recent call last)",
      "\u001b[0;32m<ipython-input-12-dbaf5790e914>\u001b[0m in \u001b[0;36m<module>\u001b[0;34m\u001b[0m\n\u001b[1;32m      1\u001b[0m \u001b[0mfig\u001b[0m\u001b[0;34m,\u001b[0m \u001b[0max\u001b[0m \u001b[0;34m=\u001b[0m \u001b[0mplt\u001b[0m\u001b[0;34m.\u001b[0m\u001b[0msubplots\u001b[0m\u001b[0;34m(\u001b[0m\u001b[0mfigsize\u001b[0m\u001b[0;34m=\u001b[0m\u001b[0;34m(\u001b[0m\u001b[0;36m9\u001b[0m\u001b[0;34m,\u001b[0m\u001b[0;36m4\u001b[0m\u001b[0;34m)\u001b[0m\u001b[0;34m)\u001b[0m\u001b[0;34m\u001b[0m\u001b[0;34m\u001b[0m\u001b[0m\n\u001b[0;32m----> 2\u001b[0;31m \u001b[0max\u001b[0m\u001b[0;34m.\u001b[0m\u001b[0mplot\u001b[0m\u001b[0;34m(\u001b[0m\u001b[0mdxp_arr\u001b[0m\u001b[0;34m,\u001b[0m \u001b[0mg_arr\u001b[0m\u001b[0;34m,\u001b[0m \u001b[0;34m'.'\u001b[0m\u001b[0;34m,\u001b[0m \u001b[0mlabel\u001b[0m\u001b[0;34m=\u001b[0m\u001b[0;34m'g(dxp)'\u001b[0m\u001b[0;34m)\u001b[0m\u001b[0;34m\u001b[0m\u001b[0;34m\u001b[0m\u001b[0m\n\u001b[0m\u001b[1;32m      3\u001b[0m \u001b[0max\u001b[0m\u001b[0;34m.\u001b[0m\u001b[0mset_ylim\u001b[0m\u001b[0;34m(\u001b[0m\u001b[0;34m*\u001b[0m\u001b[0max\u001b[0m\u001b[0;34m.\u001b[0m\u001b[0mget_ylim\u001b[0m\u001b[0;34m(\u001b[0m\u001b[0;34m)\u001b[0m\u001b[0;34m)\u001b[0m\u001b[0;34m\u001b[0m\u001b[0;34m\u001b[0m\u001b[0m\n\u001b[1;32m      4\u001b[0m \u001b[0max\u001b[0m\u001b[0;34m.\u001b[0m\u001b[0mset_xlim\u001b[0m\u001b[0;34m(\u001b[0m\u001b[0;34m*\u001b[0m\u001b[0mdxp_arr\u001b[0m\u001b[0;34m[\u001b[0m\u001b[0;34m[\u001b[0m\u001b[0;36m0\u001b[0m\u001b[0;34m,\u001b[0m\u001b[0;34m-\u001b[0m\u001b[0;36m1\u001b[0m\u001b[0;34m]\u001b[0m\u001b[0;34m]\u001b[0m\u001b[0;34m)\u001b[0m\u001b[0;34m\u001b[0m\u001b[0;34m\u001b[0m\u001b[0m\n\u001b[1;32m      5\u001b[0m \u001b[0;34m\u001b[0m\u001b[0m\n",
      "\u001b[0;31mNameError\u001b[0m: name 'dxp_arr' is not defined"
     ]
    },
    {
     "data": {
      "image/png": "[encoded data removed]",
      "text/plain": [
       "<Figure size 648x288 with 1 Axes>"
      ]
     },
     "metadata": {
      "needs_background": "light"
     },
     "output_type": "display_data"
    }
   ],
   "source": [
    "fig, ax = plt.subplots(figsize=(9,4))\n",
    "ax.plot(dxp_arr, g_arr, '.', label='g(dxp)')\n",
    "ax.set_ylim(*ax.get_ylim())\n",
    "ax.set_xlim(*dxp_arr[[0,-1]])\n",
    "\n",
    "ax.vlines(x_minus_xp_arr, *ax.get_ylim(), linestyle='--', linewidth=0.8, label='xp+dxp == x grid points')\n",
    "\n",
    "ax.plot(dxp_arr[[0,-1]], [0,0], '--', color='gray')\n",
    "if dxp_g_arr.size > 0:\n",
    "    ax.plot(dxp_g_arr[:,0], dxp_g_arr[:,1], '.', label='root-finding trials')\n",
    "    \n",
    "ax.legend()\n",
    "ax.set_xlabel(\"position displacement for next time step: dxp / a.u.\", fontsize='large')\n",
    "ax.set_ylabel(\"objective function to be zero / a.u.\", fontsize='large')\n",
    "fig.tight_layout()\n",
    "# fig.savefig(\"discontinuous-nature-of-obj-func-to-be-zero-test-2.png\")"
   ]
  },
  {
   "cell_type": "markdown",
   "metadata": {},
   "source": [
    "# [TODO] Let's just use jacobian instead of approximation, since it isn't too hard to evaluate"
   ]
  },
  {
   "cell_type": "markdown",
   "metadata": {},
   "source": [
    "#### Animate propagation"
   ]
  },
  {
   "cell_type": "code",
   "execution_count": null,
   "metadata": {},
   "outputs": [],
   "source": [
    "# %matplotlib notebook\n",
    "\n",
    "# from matplotlib.animation import FuncAnimation"
   ]
  },
  {
   "cell_type": "code",
   "execution_count": null,
   "metadata": {},
   "outputs": [],
   "source": [
    "# fig, ax = plt.subplots()\n",
    "\n",
    "# l_real, = ax.plot([],[])\n",
    "# l_abs, = ax.plot([],[])\n",
    "# ax.set_xlim(*x_arr[[0,-1]]), ax.set_ylim(-1,1)\n",
    "# text = ax.text(0,0,'')\n",
    "\n",
    "# def init(): \n",
    "#     wf_x[:] = wf_x_t0\n",
    "#     l_real.set_data(x_arr, wf_x.real)\n",
    "#     l_abs.set_data(x_arr, np.abs(wf_x))\n",
    "#     return l_real, l_abs\n",
    "    \n",
    "# def update(i):\n",
    "#     prop.propagate(wf_x[1:-1], dt, Nt=10)\n",
    "#     l_real.set_data(x_arr, wf_x.real)\n",
    "#     l_abs.set_data(x_arr, np.abs(wf_x))\n",
    "#     text.set_text(i)\n",
    "\n",
    "# ani = FuncAnimation(fig, update, frames=15, init_func=init)"
   ]
  }
 ],
 "metadata": {
  "kernelspec": {
   "display_name": "Python 3",
   "language": "python",
   "name": "python3"
  },
  "language_info": {
   "codemirror_mode": {
    "name": "ipython",
    "version": 3
   },
   "file_extension": ".py",
   "mimetype": "text/x-python",
   "name": "python",
   "nbconvert_exporter": "python",
   "pygments_lexer": "ipython3",
   "version": "3.8.1"
  }
 },
 "nbformat": 4,
 "nbformat_minor": 4
}
