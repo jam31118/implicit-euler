{
 "cells": [
  {
   "cell_type": "markdown",
   "metadata": {},
   "source": [
    "# Assumptions\n",
    "\n",
    "- Equidistanced spatial grid"
   ]
  },
  {
   "cell_type": "code",
   "execution_count": 1,
   "metadata": {},
   "outputs": [],
   "source": [
    "import numpy as np\n",
    "from numpy import pi\n",
    "import matplotlib.pyplot as plt"
   ]
  },
  {
   "cell_type": "code",
   "execution_count": 2,
   "metadata": {},
   "outputs": [],
   "source": [
    "t0 = 0.0\n",
    "Nt = 11\n",
    "dt = 0.05"
   ]
  },
  {
   "cell_type": "code",
   "execution_count": 3,
   "metadata": {},
   "outputs": [],
   "source": [
    "hbar, m = 1.0, 1.0"
   ]
  },
  {
   "cell_type": "code",
   "execution_count": 4,
   "metadata": {},
   "outputs": [],
   "source": [
    "Nx = 101\n",
    "x_arr = np.linspace(0, 5.1, Nx)\n",
    "dx = x_arr[1] - x_arr[0]\n",
    "\n",
    "Vx = np.zeros_like(x_arr, dtype=float)\n",
    "\n",
    "wf_x_t0 = np.empty_like(x_arr, dtype=complex)\n",
    "wf_x_t0[:] = np.sin(pi/5.1*x_arr)\n",
    "wf_x_t0 /= np.sqrt(np.trapz(np.square(np.abs(wf_x_t0)), x_arr))"
   ]
  },
  {
   "cell_type": "code",
   "execution_count": 5,
   "metadata": {},
   "outputs": [],
   "source": [
    "from tdse.prop.propagator import Time_Indep_Hamil_Propagator\n",
    "\n",
    "prop = Time_Indep_Hamil_Propagator(Nx-2, dx, Vx[1:-1], m=1.0)"
   ]
  },
  {
   "cell_type": "code",
   "execution_count": 6,
   "metadata": {},
   "outputs": [],
   "source": [
    "xp_t0_arr = np.array([0.3, 0.6, 0.78])"
   ]
  },
  {
   "cell_type": "markdown",
   "metadata": {},
   "source": [
    "#### Initialize"
   ]
  },
  {
   "cell_type": "code",
   "execution_count": 7,
   "metadata": {},
   "outputs": [],
   "source": [
    "# %matplotlib notebook\n",
    "\n",
    "# from matplotlib.animation import FuncAnimation"
   ]
  },
  {
   "cell_type": "code",
   "execution_count": 8,
   "metadata": {},
   "outputs": [],
   "source": [
    "# fig, ax = plt.subplots()\n",
    "\n",
    "# l_real, = ax.plot([],[])\n",
    "# l_abs, = ax.plot([],[])\n",
    "# ax.set_xlim(*x_arr[[0,-1]]), ax.set_ylim(-1,1)\n",
    "# text = ax.text(0,0,'')\n",
    "\n",
    "# def init(): \n",
    "#     wf_x[:] = wf_x_t0\n",
    "#     l_real.set_data(x_arr, wf_x.real)\n",
    "#     l_abs.set_data(x_arr, np.abs(wf_x))\n",
    "#     return l_real, l_abs\n",
    "    \n",
    "# def update(i):\n",
    "#     prop.propagate(wf_x[1:-1], dt, Nt=10)\n",
    "#     l_real.set_data(x_arr, wf_x.real)\n",
    "#     l_abs.set_data(x_arr, np.abs(wf_x))\n",
    "#     text.set_text(i)\n",
    "\n",
    "# ani = FuncAnimation(fig, update, frames=15, init_func=init)"
   ]
  },
  {
   "cell_type": "code",
   "execution_count": 9,
   "metadata": {},
   "outputs": [],
   "source": [
    "from warnings import filterwarnings\n",
    "filterwarnings('error')"
   ]
  },
  {
   "cell_type": "code",
   "execution_count": 10,
   "metadata": {},
   "outputs": [
    {
     "ename": "Exception",
     "evalue": "Failed for time-index=0, particle-position=0.3, opt_result: ",
     "output_type": "error",
     "traceback": [
      "\u001b[0;31m---------------------------------------------------------------------------\u001b[0m",
      "\u001b[0;31mNameError\u001b[0m                                 Traceback (most recent call last)",
      "\u001b[0;32m<ipython-input-10-4273a4fea23e>\u001b[0m in \u001b[0;36m<module>\u001b[0;34m\u001b[0m\n\u001b[1;32m     62\u001b[0m \u001b[0;34m\u001b[0m\u001b[0m\n\u001b[0;32m---> 63\u001b[0;31m         \u001b[0;32mtry\u001b[0m\u001b[0;34m:\u001b[0m \u001b[0m_sol\u001b[0m \u001b[0;34m=\u001b[0m \u001b[0mroot\u001b[0m\u001b[0;34m(\u001b[0m\u001b[0m_g_func\u001b[0m\u001b[0;34m,\u001b[0m \u001b[0;36m0.0\u001b[0m\u001b[0;34m,\u001b[0m \u001b[0m_g_args\u001b[0m\u001b[0;34m,\u001b[0m \u001b[0mmethod\u001b[0m\u001b[0;34m=\u001b[0m\u001b[0;34m'hybr'\u001b[0m\u001b[0;34m,\u001b[0m \u001b[0moptions\u001b[0m\u001b[0;34m=\u001b[0m\u001b[0;34m{\u001b[0m\u001b[0;34m}\u001b[0m\u001b[0;34m)\u001b[0m\u001b[0;34m\u001b[0m\u001b[0;34m\u001b[0m\u001b[0m\n\u001b[0m\u001b[1;32m     64\u001b[0m         \u001b[0;32mexcept\u001b[0m\u001b[0;34m:\u001b[0m\u001b[0;34m\u001b[0m\u001b[0;34m\u001b[0m\u001b[0m\n",
      "\u001b[0;31mNameError\u001b[0m: name '_g_args' is not defined",
      "\nDuring handling of the above exception, another exception occurred:\n",
      "\u001b[0;31mException\u001b[0m                                 Traceback (most recent call last)",
      "\u001b[0;32m<ipython-input-10-4273a4fea23e>\u001b[0m in \u001b[0;36m<module>\u001b[0;34m\u001b[0m\n\u001b[1;32m     64\u001b[0m         \u001b[0;32mexcept\u001b[0m\u001b[0;34m:\u001b[0m\u001b[0;34m\u001b[0m\u001b[0;34m\u001b[0m\u001b[0m\n\u001b[1;32m     65\u001b[0m             \u001b[0m_msg\u001b[0m \u001b[0;34m=\u001b[0m \u001b[0;34m\"Failed for time-index={}, particle-position={}, opt_result: \"\u001b[0m\u001b[0;34m\u001b[0m\u001b[0;34m\u001b[0m\u001b[0m\n\u001b[0;32m---> 66\u001b[0;31m             \u001b[0;32mraise\u001b[0m \u001b[0mException\u001b[0m\u001b[0;34m(\u001b[0m\u001b[0m_msg\u001b[0m\u001b[0;34m.\u001b[0m\u001b[0mformat\u001b[0m\u001b[0;34m(\u001b[0m\u001b[0mit\u001b[0m\u001b[0;34m,\u001b[0m \u001b[0mxp\u001b[0m\u001b[0;34m)\u001b[0m\u001b[0;34m)\u001b[0m\u001b[0;34m\u001b[0m\u001b[0;34m\u001b[0m\u001b[0m\n\u001b[0m\u001b[1;32m     67\u001b[0m         \u001b[0;32mif\u001b[0m \u001b[0;32mnot\u001b[0m \u001b[0m_sol\u001b[0m\u001b[0;34m.\u001b[0m\u001b[0msuccess\u001b[0m\u001b[0;34m:\u001b[0m \u001b[0;32mraise\u001b[0m \u001b[0mException\u001b[0m\u001b[0;34m\u001b[0m\u001b[0;34m\u001b[0m\u001b[0m\n\u001b[1;32m     68\u001b[0m         \u001b[0m_dxp\u001b[0m \u001b[0;34m=\u001b[0m \u001b[0m_sol\u001b[0m\u001b[0;34m.\u001b[0m\u001b[0mx\u001b[0m\u001b[0;34m\u001b[0m\u001b[0;34m\u001b[0m\u001b[0m\n",
      "\u001b[0;31mException\u001b[0m: Failed for time-index=0, particle-position=0.3, opt_result: "
     ]
    }
   ],
   "source": [
    "# Initialize\n",
    "xp_arr = np.empty_like(xp_t0_arr)\n",
    "xp_arr[:] = xp_t0_arr\n",
    "xp_arr_t = np.empty((Nt, xp_arr.size))\n",
    "xp_arr_t[0,:] = xp_arr\n",
    "\n",
    "wf_x = np.empty_like(wf_x_t0)\n",
    "wf_x[:] = wf_x_t0\n",
    "wf_x_t = np.empty((Nt,wf_x.size), dtype=wf_x.dtype)\n",
    "wf_x_t[0,:] = wf_x\n",
    "\n",
    "\n",
    "# Arrays for Finite Difference method\n",
    "A = np.empty((2,2), dtype=float)\n",
    "A[:,0] = 1.0\n",
    "b = np.empty((2,), dtype=complex)\n",
    "\n",
    "\n",
    "# iteration over time\n",
    "from scipy.optimize import root\n",
    "\n",
    "\n",
    "for it in range(Nt):\n",
    "#     print(\"time-index: {}\".format(it))\n",
    "    prop.propagate(wf_x[1:-1], dt, Nt=1)\n",
    "    \n",
    "    for ip, xp in enumerate(xp_arr):\n",
    "#         print(\"particle-index: {} / particle-position: {}\".format(ip, xp))\n",
    "        if not (x_arr[0] < xp and xp < x_arr[-1]): continue\n",
    "\n",
    "            \n",
    "        def _g_func(_dxp, _xp, _dx, _x0, _wf_arr, _dt, _A, _b, _hbar, _m):\n",
    "            \n",
    "            _x = _xp + _dxp\n",
    "            \n",
    "            _is0 = int((_x-_x0)//_dx)\n",
    "#             print(\"{:.32e}\".format(_x),_dxp,_is0, (_x-_x0)%_dx)\n",
    "            _A[0,1] = - ((_x-_x0)%_dx)\n",
    "            _A[1,1] = _A[0,1] + _dx\n",
    "            _b[0] = _wf_arr[_is0]\n",
    "            _b[1] = _wf_arr[_is0+1]\n",
    "            \n",
    "            try: _wf, _dx_wf = np.linalg.solve(_A, _b)\n",
    "            except np.linalg.LinAlgError as e:\n",
    "                raise RuntimeError(\"Failed to get wf at given x: {}\".format(_x))\n",
    "            except: raise Exception(\"Unexpected error\")\n",
    "                \n",
    "            if _wf == 0: raise NotImplementedError\n",
    "                \n",
    "            _v = _hbar / _m * np.imag(_dx_wf / _wf)\n",
    "            \n",
    "            _g = -_dxp + _dt * _v\n",
    "            return _g\n",
    "        \n",
    "#         _g_args = (xp, dx, x_arr[0], wf_x, dt, A, b, hbar, m)\n",
    "#         print(_g_func(0.0, *_g_args), A, b)\n",
    "#         print(_g_func(-2.88448088e-33, *_g_args), A, b)\n",
    "        \n",
    "#         def callback(dxp, g):\n",
    "#             _v_at_xp_dxp_t_dt = (g + dxp) / dt\n",
    "#             print(\"dxp: {} & _g: {} & xp: {} & _v_at_xp_dxp_t_dt: {}\".format(dxp,g,xp,_v_at_xp_dxp_t_dt))\n",
    "\n",
    "        try: _sol = root(_g_func, 0.0, _g_args, method='hybr', options={})\n",
    "        except: \n",
    "            _msg = \"Failed for time-index={}, particle-position={}, opt_result: \"\n",
    "            raise Exception(_msg.format(it, xp))\n",
    "        if not _sol.success: raise Exception\n",
    "        _dxp = _sol.x\n",
    "        xp_arr[ip] += _dxp\n",
    "        \n",
    "        \n",
    "        # Store\n",
    "        xp_arr_t[it,:] = xp_arr\n",
    "        wf_x_t[it,:] = wf_x"
   ]
  },
  {
   "cell_type": "code",
   "execution_count": null,
   "metadata": {},
   "outputs": [],
   "source": [
    "t_arr = t0 + dt*np.arange(Nt)"
   ]
  },
  {
   "cell_type": "code",
   "execution_count": null,
   "metadata": {},
   "outputs": [],
   "source": [
    "fig, ax = plt.subplots()\n",
    "for ip in range(xp_t0_arr.size):\n",
    "    ax.plot(xp_arr_t[:,ip], t_arr, '.-')\n",
    "ax.set_xlim(*x_arr[[0,-1]])\n",
    "ax.set_xlabel(\"position x / a.u.\"), ax.set_ylabel(\"time / a.u.\")\n",
    "fig.tight_layout()\n",
    "# fig.savefig(\"particles-test-0.png\")"
   ]
  },
  {
   "cell_type": "markdown",
   "metadata": {},
   "source": [
    "# [TODO] Let's just use jacobian instead of approximation, since it isn't too hard to evaluate"
   ]
  }
 ],
 "metadata": {
  "kernelspec": {
   "display_name": "Python 3",
   "language": "python",
   "name": "python3"
  },
  "language_info": {
   "codemirror_mode": {
    "name": "ipython",
    "version": 3
   },
   "file_extension": ".py",
   "mimetype": "text/x-python",
   "name": "python",
   "nbconvert_exporter": "python",
   "pygments_lexer": "ipython3",
   "version": "3.8.1"
  }
 },
 "nbformat": 4,
 "nbformat_minor": 4
}
