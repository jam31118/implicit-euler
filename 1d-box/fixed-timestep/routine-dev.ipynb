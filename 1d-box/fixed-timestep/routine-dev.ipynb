{
 "cells": [
  {
   "cell_type": "markdown",
   "metadata": {},
   "source": [
    "# Assumptions\n",
    "\n",
    "- Equidistanced spatial grid"
   ]
  },
  {
   "cell_type": "code",
   "execution_count": 1,
   "metadata": {},
   "outputs": [],
   "source": [
    "import numpy as np\n",
    "from numpy import pi\n",
    "import matplotlib.pyplot as plt"
   ]
  },
  {
   "cell_type": "markdown",
   "metadata": {},
   "source": [
    "#### Configure time array"
   ]
  },
  {
   "cell_type": "code",
   "execution_count": 2,
   "metadata": {},
   "outputs": [
    {
     "name": "stdout",
     "output_type": "stream",
     "text": [
      "time range: [0.0, 10.0] a.u.\n"
     ]
    }
   ],
   "source": [
    "t0 = 0.0\n",
    "Nt = 201\n",
    "dt = 0.05\n",
    "\n",
    "t_arr = t0 + dt*np.arange(Nt)\n",
    "print(\"time range: [{}, {}] a.u.\".format(*t_arr[[0,-1]]))"
   ]
  },
  {
   "cell_type": "markdown",
   "metadata": {},
   "source": [
    "#### Configure spatial array"
   ]
  },
  {
   "cell_type": "code",
   "execution_count": 3,
   "metadata": {},
   "outputs": [
    {
     "name": "stdout",
     "output_type": "stream",
     "text": [
      "dx: 0.01275\n"
     ]
    }
   ],
   "source": [
    "Nx = 401\n",
    "x_arr = np.linspace(0, 5.1, Nx)\n",
    "dx = x_arr[1] - x_arr[0]\n",
    "L = x_arr[-1] - x_arr[0]\n",
    "print(\"dx: {}\".format(dx))\n",
    "\n",
    "# Set limit beyond which particles stop\n",
    "lowerx, upperx = x_arr[1], x_arr[-2]"
   ]
  },
  {
   "cell_type": "markdown",
   "metadata": {},
   "source": [
    "#### Configure spatial potential energy"
   ]
  },
  {
   "cell_type": "code",
   "execution_count": 4,
   "metadata": {},
   "outputs": [],
   "source": [
    "Vx = np.zeros_like(x_arr, dtype=float)"
   ]
  },
  {
   "cell_type": "markdown",
   "metadata": {},
   "source": [
    "#### Configure initial state"
   ]
  },
  {
   "cell_type": "code",
   "execution_count": 5,
   "metadata": {},
   "outputs": [],
   "source": [
    "wf_x_t0 = np.empty_like(x_arr, dtype=complex)\n",
    "wf_x_t0[:] = np.sin(pi/L*x_arr) + 0.3*np.sin(2*pi/L*x_arr)\n",
    "wf_x_t0 /= np.sqrt(np.trapz(np.square(np.abs(wf_x_t0)), x_arr))"
   ]
  },
  {
   "cell_type": "markdown",
   "metadata": {},
   "source": [
    "#### Configure unit"
   ]
  },
  {
   "cell_type": "code",
   "execution_count": 6,
   "metadata": {},
   "outputs": [],
   "source": [
    "hbar, m = 1.0, 1.0"
   ]
  },
  {
   "cell_type": "markdown",
   "metadata": {},
   "source": [
    "#### Configure propagator"
   ]
  },
  {
   "cell_type": "code",
   "execution_count": 7,
   "metadata": {},
   "outputs": [],
   "source": [
    "from tdse.prop.propagator import Time_Indep_Hamil_Propagator\n",
    "\n",
    "prop = Time_Indep_Hamil_Propagator(Nx-2, dx, Vx[1:-1], m=1.0)"
   ]
  },
  {
   "cell_type": "markdown",
   "metadata": {},
   "source": [
    "#### Configure particles"
   ]
  },
  {
   "cell_type": "code",
   "execution_count": 8,
   "metadata": {},
   "outputs": [],
   "source": [
    "xp_t0_arr = np.array([0.3, 0.6, 3.4])"
   ]
  },
  {
   "cell_type": "markdown",
   "metadata": {},
   "source": [
    "# Propagate"
   ]
  },
  {
   "cell_type": "code",
   "execution_count": 9,
   "metadata": {},
   "outputs": [],
   "source": [
    "from warnings import filterwarnings\n",
    "filterwarnings('error')"
   ]
  },
  {
   "cell_type": "code",
   "execution_count": 10,
   "metadata": {},
   "outputs": [],
   "source": [
    "# Initialize\n",
    "xp_arr = np.empty_like(xp_t0_arr)\n",
    "xp_arr[:] = xp_t0_arr\n",
    "xp_arr_t = np.zeros((Nt, xp_arr.size))\n",
    "xp_arr_t[0,:] = xp_arr\n",
    "\n",
    "wf_x = np.empty_like(wf_x_t0)\n",
    "wf_x[:] = wf_x_t0\n",
    "wf_x_t = np.zeros((Nt,wf_x.size), dtype=wf_x.dtype)\n",
    "wf_x_t[0,:] = wf_x\n",
    "\n",
    "\n",
    "# Arrays for Finite Difference method\n",
    "Ns = 3\n",
    "A = np.empty((Ns,Ns), dtype=float)\n",
    "A[:,0] = 1.\n",
    "b = np.empty((Ns,), dtype=complex)\n",
    "\n",
    "\n",
    "assert np.std(np.diff(x_arr)) < 1e-8 * np.mean(x_arr)\n",
    "\n",
    "g_func, g_args = None, None\n",
    "dxp_g_list = None\n",
    "\n",
    "\n",
    "# iteration over time\n",
    "from scipy.optimize import root\n",
    "for it in range(Nt):\n",
    "#     print(\"time-index: {}\".format(it))\n",
    "    prop.propagate(wf_x[1:-1], dt, Nt=1)\n",
    "    \n",
    "    for ip, xp in enumerate(xp_arr):\n",
    "#         print(\"particle-index: {} / particle-position: {}\".format(ip, xp))\n",
    "        if not (lowerx < xp and xp < upperx): continue\n",
    "\n",
    "            \n",
    "        def _g_func(_dxp, _xp, _x_arr, _wf_arr, _dt, _A, _b, _hbar, _m, lowers, uppers, rfac=1e-3, _vv=False):\n",
    "            \n",
    "            # Adjust `_dxp` into valid range if not\n",
    "            _dx_l, _dx_u = lowers - _dxp, _dxp - uppers\n",
    "            _ll, _uu = (_dx_l > 0) * _dx_l, (_dx_u > 0) * _dx_u\n",
    "            _dxp += _ll - _uu\n",
    "            # Evalaute a factor to be multiplied to funcion value if `_dxp` is out of range\n",
    "            _g_factor = 1. + rfac * (_ll + _uu)\n",
    "            \n",
    "            \n",
    "            _dx = _x_arr[1] - _x_arr[0]\n",
    "            _x = _xp + _dxp\n",
    "            \n",
    "            _is0 = int((_x-_x_arr[0])//_dx)\n",
    "            _Nx = _wf_arr.size\n",
    "            if _is0 > _Nx//2: _is0 += -1\n",
    "            _xi_minus_x = (_x_arr[_is0:_is0+Ns] - _x)\n",
    "            if _vv: print(\"_dxp={}, _xp={}, _x={}, _is0={}, _xi_minus_x={}, _A[:,0]={}\".format(\n",
    "                _dxp, _xp, _x, _is0, _xi_minus_x, _A[:,0]))\n",
    "            _A[:,1] = _A[:,0] * _xi_minus_x / 1.\n",
    "            _A[:,2] = _A[:,1] * _xi_minus_x / 2.\n",
    "            _b[:] = _wf_arr[_is0:_is0+Ns]\n",
    "            \n",
    "            try: _wf, _dx_wf, _dx2_wf = np.linalg.solve(_A, _b)\n",
    "            except np.linalg.LinAlgError as e:\n",
    "                raise RuntimeError(\"Failed to get wf at given x: {}\".format(_x))\n",
    "            except: raise Exception(\"Unexpected error\")\n",
    "                \n",
    "            if _wf == 0: raise NotImplementedError\n",
    "                \n",
    "            _v = _hbar / _m * np.imag(_dx_wf / _wf)\n",
    "            \n",
    "            _g = -_dxp + _dt * _v\n",
    "            \n",
    "            # For extension if `_dxp` is out of range\n",
    "            _g *= _g_factor\n",
    "            return _g\n",
    "        \n",
    "        _g_args = (xp, x_arr, wf_x, dt, A, b, hbar, m, lowerx-xp, upperx-xp, 1e-3)\n",
    "        \n",
    "        _dxp_g_list = []\n",
    "        def callback(dxp,g): _dxp_g_list.append((dxp[0],g[0])), print(dxp,g)\n",
    "        _opt_broyden1 = {'xtol':1e-4, 'xatol':1e2, 'fatol':6e-3, 'ftol':1e4}\n",
    "        _tot_opt = { 'method':'broyden1', 'options': _opt_broyden1}\n",
    "        \n",
    "        _failed = False\n",
    "        try: _sol = root(_g_func, 0.0, _g_args, **_tot_opt)\n",
    "        except Exception as e:\n",
    "            _tot_opt_at_err = { 'method':'broyden1', 'options': {**_opt_broyden1, 'disp':True}}\n",
    "            try: \n",
    "                _g_args_at_err = _g_args + (True,)\n",
    "#                 print(\"_g_args_at_err: \",_g_args_at_err)\n",
    "                _sol = root(_g_func, 0.0, _g_args_at_err, callback=callback, **_tot_opt_at_err)\n",
    "            except: pass\n",
    "            \n",
    "            g_func, g_args = _g_func, _g_args\n",
    "            dxp_g_list = _dxp_g_list\n",
    "            \n",
    "            _msg = \"Failed for time-index={}, particle-position={:.4f}\\n\"\n",
    "            raise Exception(_msg.format(it, xp))\n",
    "            \n",
    "        if not _sol.success:\n",
    "            try: _sol = root(_g_func, 0.0, _g_args, callback=callback, **_tot_opt)\n",
    "            except: pass\n",
    "            g_func, g_args = _g_func, _g_args\n",
    "            dxp_g_list = _dxp_g_list\n",
    "            _msg = \"Failed for time-index={}, particle-position={:.4f}\\nopt_result:\\n{}\"\n",
    "            raise Exception(_msg.format(it, xp, _sol))\n",
    "            \n",
    "        _dxp = _sol.x\n",
    "        xp_arr[ip] += _dxp\n",
    "        \n",
    "        \n",
    "        # Store\n",
    "        xp_arr_t[it,:] = xp_arr\n",
    "        wf_x_t[it,:] = wf_x"
   ]
  },
  {
   "cell_type": "markdown",
   "metadata": {},
   "source": [
    "#### Visualize"
   ]
  },
  {
   "cell_type": "code",
   "execution_count": 11,
   "metadata": {},
   "outputs": [],
   "source": [
    "pdf_x_t = np.square(np.abs(wf_x_t))"
   ]
  },
  {
   "cell_type": "code",
   "execution_count": 12,
   "metadata": {},
   "outputs": [
    {
     "data": {
      "image/png": "[encoded data removed]",
      "text/plain": [
       "<Figure size 432x288 with 1 Axes>"
      ]
     },
     "metadata": {
      "needs_background": "light"
     },
     "output_type": "display_data"
    }
   ],
   "source": [
    "fig, ax = plt.subplots()\n",
    "\n",
    "img_extent = (*x_arr[[0,-1]], *t_arr[[0,-1]])\n",
    "ax.imshow(pdf_x_t, origin='lower', extent=img_extent, cmap='gray')\n",
    "\n",
    "for ip in range(xp_t0_arr.size):\n",
    "    ax.plot(xp_arr_t[:,ip], t_arr, '.-', color='white', mfc='black')\n",
    "    \n",
    "ax.set_xlabel(\"position x / a.u.\"), ax.set_ylabel(\"time / a.u.\")\n",
    "fig.tight_layout()\n",
    "\n",
    "# fig.savefig(\"particles-test-8.png\")"
   ]
  },
  {
   "cell_type": "markdown",
   "metadata": {},
   "source": [
    "# ETC>"
   ]
  },
  {
   "cell_type": "code",
   "execution_count": 40,
   "metadata": {},
   "outputs": [
    {
     "data": {
      "text/plain": [
       "0.49726078953818287"
      ]
     },
     "execution_count": 40,
     "metadata": {},
     "output_type": "execute_result"
    }
   ],
   "source": [
    "g_args[0]"
   ]
  },
  {
   "cell_type": "code",
   "execution_count": 39,
   "metadata": {},
   "outputs": [
    {
     "data": {
      "text/plain": [
       "-0.007219136782978502"
      ]
     },
     "execution_count": 39,
     "metadata": {},
     "output_type": "execute_result"
    }
   ],
   "source": [
    "g_func(0.0, *g_args)"
   ]
  },
  {
   "cell_type": "code",
   "execution_count": 35,
   "metadata": {},
   "outputs": [
    {
     "data": {
      "text/plain": [
       "array([], dtype=float64)"
      ]
     },
     "execution_count": 35,
     "metadata": {},
     "output_type": "execute_result"
    }
   ],
   "source": [
    "dxp_g_arr = np.asarray(dxp_g_list)\n",
    "dxp_g_arr"
   ]
  },
  {
   "cell_type": "code",
   "execution_count": 29,
   "metadata": {},
   "outputs": [],
   "source": [
    "if dxp_g_arr.size > 0:\n",
    "    np.average(dxp_g_arr[:,1])"
   ]
  },
  {
   "cell_type": "code",
   "execution_count": 30,
   "metadata": {},
   "outputs": [
    {
     "data": {
      "text/plain": [
       "(-5e-05, 5e-05)"
      ]
     },
     "execution_count": 30,
     "metadata": {},
     "output_type": "execute_result"
    },
    {
     "data": {
      "image/png": "[encoded data removed]",
      "text/plain": [
       "<Figure size 432x288 with 1 Axes>"
      ]
     },
     "metadata": {
      "needs_background": "light"
     },
     "output_type": "display_data"
    }
   ],
   "source": [
    "fig, ax = plt.subplots()\n",
    "ax.plot(dxp_g_arr[:,1])\n",
    "# ax2 = ax.twinx()\n",
    "# ax2.plot(np.diff(dxp_g_arr[:,1]), color='darksalmon')\n",
    "ax.set_ylim(-0.00005, 0.00005)"
   ]
  },
  {
   "cell_type": "code",
   "execution_count": 55,
   "metadata": {},
   "outputs": [],
   "source": [
    "xp = g_args[0]\n",
    "x_minus_xp_arr = x_arr - xp"
   ]
  },
  {
   "cell_type": "code",
   "execution_count": 38,
   "metadata": {},
   "outputs": [],
   "source": [
    "dxp_g_median = np.median(dxp_g_arr[:,0])\n",
    "dxp_arr = np.linspace(dxp_g_median-0.0001,dxp_g_median+0.0001,101)\n",
    "g_arr = np.asarray([g_func(dxp, *g_args) for dxp in dxp_arr])"
   ]
  },
  {
   "cell_type": "code",
   "execution_count": 12,
   "metadata": {},
   "outputs": [
    {
     "ename": "NameError",
     "evalue": "name 'dxp_arr' is not defined",
     "output_type": "error",
     "traceback": [
      "\u001b[0;31m---------------------------------------------------------------------------\u001b[0m",
      "\u001b[0;31mNameError\u001b[0m                                 Traceback (most recent call last)",
      "\u001b[0;32m<ipython-input-12-dbaf5790e914>\u001b[0m in \u001b[0;36m<module>\u001b[0;34m\u001b[0m\n\u001b[1;32m      1\u001b[0m \u001b[0mfig\u001b[0m\u001b[0;34m,\u001b[0m \u001b[0max\u001b[0m \u001b[0;34m=\u001b[0m \u001b[0mplt\u001b[0m\u001b[0;34m.\u001b[0m\u001b[0msubplots\u001b[0m\u001b[0;34m(\u001b[0m\u001b[0mfigsize\u001b[0m\u001b[0;34m=\u001b[0m\u001b[0;34m(\u001b[0m\u001b[0;36m9\u001b[0m\u001b[0;34m,\u001b[0m\u001b[0;36m4\u001b[0m\u001b[0;34m)\u001b[0m\u001b[0;34m)\u001b[0m\u001b[0;34m\u001b[0m\u001b[0;34m\u001b[0m\u001b[0m\n\u001b[0;32m----> 2\u001b[0;31m \u001b[0max\u001b[0m\u001b[0;34m.\u001b[0m\u001b[0mplot\u001b[0m\u001b[0;34m(\u001b[0m\u001b[0mdxp_arr\u001b[0m\u001b[0;34m,\u001b[0m \u001b[0mg_arr\u001b[0m\u001b[0;34m,\u001b[0m \u001b[0;34m'.'\u001b[0m\u001b[0;34m,\u001b[0m \u001b[0mlabel\u001b[0m\u001b[0;34m=\u001b[0m\u001b[0;34m'g(dxp)'\u001b[0m\u001b[0;34m)\u001b[0m\u001b[0;34m\u001b[0m\u001b[0;34m\u001b[0m\u001b[0m\n\u001b[0m\u001b[1;32m      3\u001b[0m \u001b[0max\u001b[0m\u001b[0;34m.\u001b[0m\u001b[0mset_ylim\u001b[0m\u001b[0;34m(\u001b[0m\u001b[0;34m*\u001b[0m\u001b[0max\u001b[0m\u001b[0;34m.\u001b[0m\u001b[0mget_ylim\u001b[0m\u001b[0;34m(\u001b[0m\u001b[0;34m)\u001b[0m\u001b[0;34m)\u001b[0m\u001b[0;34m\u001b[0m\u001b[0;34m\u001b[0m\u001b[0m\n\u001b[1;32m      4\u001b[0m \u001b[0max\u001b[0m\u001b[0;34m.\u001b[0m\u001b[0mset_xlim\u001b[0m\u001b[0;34m(\u001b[0m\u001b[0;34m*\u001b[0m\u001b[0mdxp_arr\u001b[0m\u001b[0;34m[\u001b[0m\u001b[0;34m[\u001b[0m\u001b[0;36m0\u001b[0m\u001b[0;34m,\u001b[0m\u001b[0;34m-\u001b[0m\u001b[0;36m1\u001b[0m\u001b[0;34m]\u001b[0m\u001b[0;34m]\u001b[0m\u001b[0;34m)\u001b[0m\u001b[0;34m\u001b[0m\u001b[0;34m\u001b[0m\u001b[0m\n\u001b[1;32m      5\u001b[0m \u001b[0;34m\u001b[0m\u001b[0m\n",
      "\u001b[0;31mNameError\u001b[0m: name 'dxp_arr' is not defined"
     ]
    },
    {
     "data": {
      "image/png": "[encoded data removed]",
      "text/plain": [
       "<Figure size 648x288 with 1 Axes>"
      ]
     },
     "metadata": {
      "needs_background": "light"
     },
     "output_type": "display_data"
    }
   ],
   "source": [
    "fig, ax = plt.subplots(figsize=(9,4))\n",
    "ax.plot(dxp_arr, g_arr, '.', label='g(dxp)')\n",
    "ax.set_ylim(*ax.get_ylim())\n",
    "ax.set_xlim(*dxp_arr[[0,-1]])\n",
    "\n",
    "ax.vlines(x_minus_xp_arr, *ax.get_ylim(), linestyle='--', linewidth=0.8, label='xp+dxp == x grid points')\n",
    "\n",
    "ax.plot(dxp_arr[[0,-1]], [0,0], '--', color='gray')\n",
    "if dxp_g_arr.size > 0:\n",
    "    ax.plot(dxp_g_arr[:,0], dxp_g_arr[:,1], '.', label='root-finding trials')\n",
    "    \n",
    "ax.legend()\n",
    "ax.set_xlabel(\"position displacement for next time step: dxp / a.u.\", fontsize='large')\n",
    "ax.set_ylabel(\"objective function to be zero / a.u.\", fontsize='large')\n",
    "fig.tight_layout()\n",
    "# fig.savefig(\"discontinuous-nature-of-obj-func-to-be-zero-test-2.png\")"
   ]
  },
  {
   "cell_type": "markdown",
   "metadata": {},
   "source": [
    "# [..may be not][TODO] Let's just use jacobian instead of approximation, since it isn't too hard to evaluate"
   ]
  },
  {
   "cell_type": "markdown",
   "metadata": {},
   "source": [
    "#### Animate propagation"
   ]
  },
  {
   "cell_type": "code",
   "execution_count": null,
   "metadata": {},
   "outputs": [],
   "source": [
    "# %matplotlib notebook\n",
    "\n",
    "# from matplotlib.animation import FuncAnimation"
   ]
  },
  {
   "cell_type": "code",
   "execution_count": null,
   "metadata": {},
   "outputs": [],
   "source": [
    "# fig, ax = plt.subplots()\n",
    "\n",
    "# l_real, = ax.plot([],[])\n",
    "# l_abs, = ax.plot([],[])\n",
    "# ax.set_xlim(*x_arr[[0,-1]]), ax.set_ylim(-1,1)\n",
    "# text = ax.text(0,0,'')\n",
    "\n",
    "# def init(): \n",
    "#     wf_x[:] = wf_x_t0\n",
    "#     l_real.set_data(x_arr, wf_x.real)\n",
    "#     l_abs.set_data(x_arr, np.abs(wf_x))\n",
    "#     return l_real, l_abs\n",
    "    \n",
    "# def update(i):\n",
    "#     prop.propagate(wf_x[1:-1], dt, Nt=10)\n",
    "#     l_real.set_data(x_arr, wf_x.real)\n",
    "#     l_abs.set_data(x_arr, np.abs(wf_x))\n",
    "#     text.set_text(i)\n",
    "\n",
    "# ani = FuncAnimation(fig, update, frames=15, init_func=init)"
   ]
  }
 ],
 "metadata": {
  "kernelspec": {
   "display_name": "Python 3",
   "language": "python",
   "name": "python3"
  },
  "language_info": {
   "codemirror_mode": {
    "name": "ipython",
    "version": 3
   },
   "file_extension": ".py",
   "mimetype": "text/x-python",
   "name": "python",
   "nbconvert_exporter": "python",
   "pygments_lexer": "ipython3",
   "version": "3.8.1"
  }
 },
 "nbformat": 4,
 "nbformat_minor": 4
}
