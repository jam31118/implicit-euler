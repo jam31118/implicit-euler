{
 "cells": [
  {
   "cell_type": "code",
   "execution_count": 1,
   "metadata": {},
   "outputs": [],
   "source": [
    "import numpy as np\n",
    "import matplotlib.pyplot as plt"
   ]
  },
  {
   "cell_type": "markdown",
   "metadata": {},
   "source": [
    "# Test for discrete array"
   ]
  },
  {
   "cell_type": "code",
   "execution_count": 8,
   "metadata": {},
   "outputs": [],
   "source": [
    "import numpy as np\n",
    "\n",
    "def to_linear_cdf(x, f):\n",
    "    \n",
    "    assert isinstance(x, np.ndarray)\n",
    "    \n",
    "    _mid_arr = 0.5 * (f[1:] + f[:-1])\n",
    "    _norm = np.sum(_mid_arr * np.diff(x))\n",
    "    _pdf = _mid_arr / _norm\n",
    "\n",
    "    _pdf_dx = np.empty(x.size)\n",
    "    _pdf_dx[0] = 0.0\n",
    "    _pdf_dx[1:] = _pdf * np.diff(x)\n",
    "    _cdf = np.add.accumulate(_pdf_dx)\n",
    "    \n",
    "    return _cdf\n",
    "\n",
    "\n",
    "def quantile(x, f, q, return_cdf=False):\n",
    "    \n",
    "    assert np.all((0 <= q) & (q < 1.0))\n",
    "\n",
    "    _cdf = to_linear_cdf(x, f)\n",
    "    \n",
    "    _xq_arr, _xq = np.empty_like(q), None\n",
    "    for _i in range(q.size):\n",
    "        _q0 = q[_i]\n",
    "        if _q0 == 1.0: _xq = 1.0\n",
    "        else:\n",
    "            _ind = np.where((_cdf - _q0) > 0)[0][0] - 1\n",
    "            _p = (_q0 - _cdf[_ind]) / (_cdf[_ind+1] - _cdf[_ind])\n",
    "            _xq = _p * x[_ind+1] + (1 - _p) * x[_ind]\n",
    "        _xq_arr[_i] = _xq\n",
    "    \n",
    "    if not return_cdf: return _xq_arr\n",
    "    else: return (_xq_arr, _cdf)"
   ]
  },
  {
   "cell_type": "code",
   "execution_count": 9,
   "metadata": {},
   "outputs": [],
   "source": [
    "x_arr = np.linspace(-2, 5, 30)\n",
    "f = np.exp(-x_arr*x_arr) + 0.5 * np.exp(-3*(x_arr-3)*(x_arr-3))\n",
    "q_arr = np.linspace(0.1, 0.9, 9)"
   ]
  },
  {
   "cell_type": "code",
   "execution_count": 10,
   "metadata": {},
   "outputs": [],
   "source": [
    "xq_arr, cdf = quantile(x_arr, f, q_arr, return_cdf=True)"
   ]
  },
  {
   "cell_type": "code",
   "execution_count": null,
   "metadata": {},
   "outputs": [
    {
     "data": {
      "text/plain": [
       "Text(0, 0.5, 'original data')"
      ]
     },
     "execution_count": 13,
     "metadata": {},
     "output_type": "execute_result"
    }
   ],
   "source": [
    "figs, axs = plt.subplots()\n",
    "\n",
    "axs.plot(x_arr, cdf, color='darksalmon')\n",
    "axs.plot(xq_arr, q_arr, '.')\n",
    "axs.set_ylabel(\"CDF\")\n",
    "\n",
    "ax2 = axs.twinx()\n",
    "ax2.plot(x_arr, f)\n",
    "ax2.set_ylabel(\"original data\")"
   ]
  },
  {
   "cell_type": "code",
   "execution_count": 2,
   "metadata": {},
   "outputs": [],
   "source": [
    "fig, (ax, axn) = plt.subplots(nrows=2, figsize=(7,8))\n",
    "\n",
    "lf, = ax.plot(x_arr, f, 'o', color='darksalmon')\n",
    "ax.vlines(x_arr, 0, f, linewidth=2.0, colors=lf.get_color())\n",
    "baa = ax.bar(x_arr[:-1], mid_arr, align='edge', width=np.diff(x_arr))\n",
    "ax.legend(\n",
    "    (lf, baa), \n",
    "    (\"origial discrete data\", \"corresponding continuous distribution\"))\n",
    "\n",
    "axn.plot(x_arr, cdf)\n",
    "axn.plot(xq_arr, q_arr, '.')\n",
    "axn.hlines(q_arr, x_arr[0], x_arr[-1])"
   ]
  },
  {
   "cell_type": "code",
   "execution_count": 5,
   "metadata": {},
   "outputs": [],
   "source": [
    "# fig.savefig(\"data-to-cdf-two-gaussian-test-1.png\")"
   ]
  }
 ],
 "metadata": {
  "kernelspec": {
   "display_name": "Python 3",
   "language": "python",
   "name": "python3"
  },
  "language_info": {
   "codemirror_mode": {
    "name": "ipython",
    "version": 3
   },
   "file_extension": ".py",
   "mimetype": "text/x-python",
   "name": "python",
   "nbconvert_exporter": "python",
   "pygments_lexer": "ipython3",
   "version": "3.6.0"
  }
 },
 "nbformat": 4,
 "nbformat_minor": 2
}
