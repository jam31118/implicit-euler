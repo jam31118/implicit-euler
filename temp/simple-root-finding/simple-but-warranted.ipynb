{
 "cells": [
  {
   "cell_type": "code",
   "execution_count": 1,
   "metadata": {},
   "outputs": [],
   "source": [
    "import numpy as np\n",
    "from numpy import exp\n",
    "import matplotlib.pyplot as plt"
   ]
  },
  {
   "cell_type": "code",
   "execution_count": 3,
   "metadata": {},
   "outputs": [],
   "source": [
    "def f(x): return exp(x+2) - 1.0"
   ]
  },
  {
   "cell_type": "code",
   "execution_count": 4,
   "metadata": {},
   "outputs": [],
   "source": [
    "x0 = 0.0"
   ]
  },
  {
   "cell_type": "code",
   "execution_count": null,
   "metadata": {},
   "outputs": [],
   "source": [
    "def root(f, x0, eps=1e-2):\n",
    "    _x, _f, _sgn = x0, f(x0), 1\n",
    "    \n",
    "    for i in range(100):\n",
    "        _x_next = _x + _sgn*eps\n",
    "        _f_next = f(_x_next)\n",
    "        if _f\n",
    "        _sgn *= 1 - 2*(_f < _f_next)\n",
    "        _x, _f = _x_next, _f_next\n",
    "    \n",
    "    \n",
    "    _f1 = f(x0+eps)\n",
    "    if _f0 == _f1: raise NotImplementedError\n",
    "    elif _f0 > _f1:\n",
    "        for i in range(100):\n",
    "            \n",
    "        if f(x0)"
   ]
  }
 ],
 "metadata": {
  "kernelspec": {
   "display_name": "Python 3",
   "language": "python",
   "name": "python3"
  },
  "language_info": {
   "codemirror_mode": {
    "name": "ipython",
    "version": 3
   },
   "file_extension": ".py",
   "mimetype": "text/x-python",
   "name": "python",
   "nbconvert_exporter": "python",
   "pygments_lexer": "ipython3",
   "version": "3.8.1"
  }
 },
 "nbformat": 4,
 "nbformat_minor": 4
}
