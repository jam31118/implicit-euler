{
 "cells": [
  {
   "cell_type": "markdown",
   "metadata": {},
   "source": [
    "# [TODO] implement implicit-euler using finite array of state functions and their derivatives\n",
    "\n",
    "# [TODO] Compare the analytical solution of trajectory for gaussian case"
   ]
  },
  {
   "cell_type": "code",
   "execution_count": 2,
   "metadata": {},
   "outputs": [],
   "source": [
    "import numpy as np"
   ]
  },
  {
   "cell_type": "code",
   "execution_count": 3,
   "metadata": {},
   "outputs": [],
   "source": [
    "delta_t = 0.05\n",
    "t0 = 0.0\n",
    "k0 = 0.1\n",
    "\n",
    "def get_psi_dpsi_ddpsi(x,t):\n",
    "    _psi = np.exp(1.0j * (k0 * x - 0.5*k0*k0*t))\n",
    "    _dpsi = 1.0j * k0 * _psi\n",
    "    _ddpsi = - k0 * k0 * _psi\n",
    "    return (_psi, _dpsi, _ddpsi)\n",
    "\n",
    "from tdse.analytic import Gaussian1D, gradient_Gaussian1D, laplacian_Gaussian1D\n",
    "def get_psi_dpsi_ddpsi(x,t):\n",
    "    _psi = Gaussian1D(x,t,k0)\n",
    "    _dpsi = gradient_Gaussian1D(x,t,k0)\n",
    "    _ddpsi = laplacian_Gaussian1D(x,t,k0)\n",
    "    return (_psi, _dpsi, _ddpsi)\n",
    "\n",
    "from tdse.finite_difference import eval_deriv_on_equidistanced_grid\n",
    "x_arr = np.linspace(-2,2,201)\n",
    "def get_psi_dpsi_ddpsi(x, t):\n",
    "    if not isinstance(x, np.ndarray): x = np.array(x)\n",
    "    _psi = Gaussian1D(x_arr,t,k0)\n",
    "    return eval_deriv_on_equidistanced_grid(x, x_arr, _psi, orders=[0,1,2], N_s=4)[:,0]\n",
    "\n",
    "\n",
    "def get_psi(x, t):\n",
    "#     return Gaussian1D(x_arr,t,k0)\n",
    "    return np.exp(1.0j * (k0 * x - 0.5*k0*k0*t))"
   ]
  },
  {
   "cell_type": "code",
   "execution_count": 4,
   "metadata": {},
   "outputs": [],
   "source": [
    "def prop_xx(xx_t, delta_t, x_arr, sf_arr_next, log=False, g_zero_thres=1e-11, xx_diff_thres=1e-13):\n",
    "    \n",
    "#     x_arr, sf_arr_next = farg\n",
    "    \n",
    "#     _t_next = t + delta_t\n",
    "    \n",
    "    _xx_t_k = xx_t\n",
    "\n",
    "    while True:\n",
    "\n",
    "#         _psi, _dpsi, _ddpsi = get_psi_dpsi_ddpsi(_xx_t_k, _t_next)\n",
    "        _psi, _dpsi, _ddpsi = eval_deriv_on_equidistanced_grid(np.array([xx_t]), x_arr, sf_arr_next, orders=[0,1,2], N_s=4)[:,0]\n",
    "        \n",
    "        _g_k = xx_t - _xx_t_k + delta_t * (_dpsi / _psi).imag\n",
    "        if log: print(\"xx_t_k: {:.16f} / g_k: {:.16f}\".format(_xx_t_k, _g_k))\n",
    "\n",
    "        if np.abs(_g_k) < g_zero_thres: break\n",
    "\n",
    "        _psi_sq = (_psi.conj() * _psi).real\n",
    "        _xx_t_k_next = _xx_t_k - ( (xx_t - _xx_t_k)*_psi_sq + delta_t * (_psi.conj()*_dpsi).imag ) / ( delta_t * (_psi.conj()*_ddpsi - _psi.conj() / _psi * (_dpsi*_dpsi)).imag - 1.0)\n",
    "        assert np.abs(_xx_t_k_next - _xx_t_k) > xx_diff_thres\n",
    "        _xx_t_k = _xx_t_k_next\n",
    "    \n",
    "    _xx_t_next = _xx_t_k\n",
    "    \n",
    "    return _xx_t_next"
   ]
  },
  {
   "cell_type": "code",
   "execution_count": 5,
   "metadata": {
    "scrolled": true
   },
   "outputs": [
    {
     "name": "stdout",
     "output_type": "stream",
     "text": [
      "t: 0.050000000000000 / xx_t: 0.004999999999994\n",
      "t: 0.100000000000000 / xx_t: 0.009999999999994\n",
      "t: 0.150000000000000 / xx_t: 0.014999999999992\n",
      "t: 0.200000000000000 / xx_t: 0.019999999999987\n",
      "t: 0.250000000000000 / xx_t: 0.024999999999981\n",
      "\n",
      "t: 0.050000000000000 / xx_t: 0.314999999999998\n",
      "t: 0.100000000000000 / xx_t: 0.319999999999993\n",
      "t: 0.150000000000000 / xx_t: 0.324999999999987\n",
      "t: 0.200000000000000 / xx_t: 0.329999999999987\n",
      "t: 0.250000000000000 / xx_t: 0.334999999999985\n",
      "\n",
      "t: 0.050000000000000 / xx_t: 0.604999999999994\n",
      "t: 0.100000000000000 / xx_t: 0.609999999999994\n",
      "t: 0.150000000000000 / xx_t: 0.614999999999992\n",
      "t: 0.200000000000000 / xx_t: 0.619999999999987\n",
      "t: 0.250000000000000 / xx_t: 0.624999999999981\n",
      "\n"
     ]
    }
   ],
   "source": [
    "x_p_arr = np.array([0.0, 0.31, 0.6])\n",
    "\n",
    "for x_p in x_p_arr:\n",
    "    xx_t = x_p\n",
    "    t = t0\n",
    "\n",
    "    for _t_idx in range(5):\n",
    "        \n",
    "        _sf_arr_next = get_psi(x_arr, t+delta_t)\n",
    "        xx_t = prop_xx(xx_t, delta_t, x_arr, _sf_arr_next, log=False)\n",
    "        t = t + delta_t\n",
    "\n",
    "        print(\"t: {:.15f} / xx_t: {:.15f}\".format(t,xx_t))\n",
    "    print(\"\")"
   ]
  }
 ],
 "metadata": {
  "kernelspec": {
   "display_name": "Python 3",
   "language": "python",
   "name": "python3"
  },
  "language_info": {
   "codemirror_mode": {
    "name": "ipython",
    "version": 3
   },
   "file_extension": ".py",
   "mimetype": "text/x-python",
   "name": "python",
   "nbconvert_exporter": "python",
   "pygments_lexer": "ipython3",
   "version": "3.6.0"
  }
 },
 "nbformat": 4,
 "nbformat_minor": 2
}
