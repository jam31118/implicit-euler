{
 "cells": [
  {
   "cell_type": "code",
   "execution_count": 1,
   "metadata": {},
   "outputs": [],
   "source": [
    "import numpy as np"
   ]
  },
  {
   "cell_type": "code",
   "execution_count": 2,
   "metadata": {},
   "outputs": [],
   "source": [
    "delta_t = 0.05\n",
    "t0 = 0.0\n",
    "k0 = 0.1\n",
    "\n",
    "def get_psi_dpsi_ddpsi(x,t):\n",
    "    _psi = np.exp(1.0j * (k0 * x - 0.5*k0*k0*t))\n",
    "    _dpsi = 1.0j * k0 * _psi\n",
    "    _ddpsi = - k0 * k0 * _psi\n",
    "    return (_psi, _dpsi, _ddpsi)"
   ]
  },
  {
   "cell_type": "code",
   "execution_count": 3,
   "metadata": {},
   "outputs": [],
   "source": [
    "def prop_xx(xx_t, get_psi_dpsi_ddpsi, t, delta_t, log=False, g_zero_thres=1e-13, xx_diff_thres=1e-13):\n",
    "    \n",
    "    _t_next = t + delta_t\n",
    "    \n",
    "    _xx_t_k = xx_t\n",
    "\n",
    "    while True:\n",
    "\n",
    "        _psi, _dpsi, _ddpsi = get_psi_dpsi_ddpsi(_xx_t_k, _t_next)\n",
    "        _g_k = xx_t - _xx_t_k + delta_t * (_dpsi / _psi).imag\n",
    "        if log: print(\"xx_t_k: {:.16f} / g_k: {:.16f}\".format(_xx_t_k, _g_k))\n",
    "\n",
    "        if np.abs(_g_k) < g_zero_thres: break\n",
    "\n",
    "        _psi_sq = (_psi.conj() * _psi).real\n",
    "        _xx_t_k_next = _xx_t_k - ( (xx_t - _xx_t_k)*_psi_sq + delta_t * (_psi.conj()*_dpsi).imag ) / ( delta_t * (_psi.conj()*_ddpsi - _psi.conj() / _psi * (_dpsi*_dpsi)).imag - 1.0)\n",
    "        assert np.abs(_xx_t_k_next - _xx_t_k) > xx_diff_thres\n",
    "        _xx_t_k = _xx_t_k_next\n",
    "    \n",
    "    _xx_t_next = _xx_t_k\n",
    "    \n",
    "    return _xx_t_next"
   ]
  },
  {
   "cell_type": "code",
   "execution_count": 4,
   "metadata": {},
   "outputs": [
    {
     "name": "stdout",
     "output_type": "stream",
     "text": [
      "t: 0.050000000000000 / xx_t: 0.005000000000000\n",
      "t: 0.100000000000000 / xx_t: 0.010000000000000\n",
      "t: 0.150000000000000 / xx_t: 0.015000000000000\n",
      "t: 0.200000000000000 / xx_t: 0.020000000000000\n",
      "t: 0.250000000000000 / xx_t: 0.025000000000000\n",
      "t: 0.300000000000000 / xx_t: 0.030000000000000\n",
      "t: 0.350000000000000 / xx_t: 0.035000000000000\n",
      "t: 0.400000000000000 / xx_t: 0.040000000000000\n",
      "t: 0.450000000000000 / xx_t: 0.045000000000000\n",
      "t: 0.500000000000000 / xx_t: 0.050000000000000\n"
     ]
    }
   ],
   "source": [
    "xx_t = 0.0\n",
    "t = t0\n",
    "\n",
    "for _t_idx in range(10):\n",
    "\n",
    "    xx_t = prop_xx(xx_t, get_psi_dpsi_ddpsi, t, delta_t)\n",
    "    t = t + delta_t\n",
    "    \n",
    "    print(\"t: {:.15f} / xx_t: {:.15f}\".format(t,xx_t))"
   ]
  }
 ],
 "metadata": {
  "kernelspec": {
   "display_name": "Python 3",
   "language": "python",
   "name": "python3"
  },
  "language_info": {
   "codemirror_mode": {
    "name": "ipython",
    "version": 3
   },
   "file_extension": ".py",
   "mimetype": "text/x-python",
   "name": "python",
   "nbconvert_exporter": "python",
   "pygments_lexer": "ipython3",
   "version": "3.5.2"
  }
 },
 "nbformat": 4,
 "nbformat_minor": 2
}
