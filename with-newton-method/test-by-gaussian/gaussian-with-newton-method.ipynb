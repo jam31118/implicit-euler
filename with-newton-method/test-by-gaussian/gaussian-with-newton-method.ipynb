{
 "cells": [
  {
   "cell_type": "code",
   "execution_count": 1,
   "metadata": {},
   "outputs": [],
   "source": [
    "import numpy as np"
   ]
  },
  {
   "cell_type": "code",
   "execution_count": 2,
   "metadata": {},
   "outputs": [],
   "source": [
    "delta_t = 0.05\n",
    "t0 = 0.0\n",
    "k0 = 0.1\n",
    "\n",
    "def get_psi_dpsi_ddpsi(x,t):\n",
    "    _psi = np.exp(1.0j * (k0 * x - 0.5*k0*k0*t))\n",
    "    _dpsi = 1.0j * k0 * _psi\n",
    "    _ddpsi = - k0 * k0 * _psi\n",
    "    return (_psi, _dpsi, _ddpsi)\n",
    "\n",
    "# def get_psi(x,t): return np.exp(1.0j (k0 * x - 0.5*k0*k0*t))\n",
    "# def get_dpsi(x,t): return 1.0j * k0 * get_psi(x,t)"
   ]
  },
  {
   "cell_type": "code",
   "execution_count": 3,
   "metadata": {},
   "outputs": [],
   "source": [
    "xx = 0.0"
   ]
  },
  {
   "cell_type": "code",
   "execution_count": 4,
   "metadata": {},
   "outputs": [
    {
     "name": "stdout",
     "output_type": "stream",
     "text": [
      "xx_k: 0.0000000000000000 / g_k: 0.0050000000000000\n",
      "xx_k: 0.0050000000000000 / g_k: 0.0000000000000000\n"
     ]
    }
   ],
   "source": [
    "g_zero_thres = 1e-12\n",
    "\n",
    "t_next = t0 + delta_t\n",
    "xx_k = xx  # thus, for k=0 => xx == xx_k == xx_0\n",
    "\n",
    "# _psi, _dpsi, _ddpsi = get_psi_dpsi_ddpsi(xx_k, t0)\n",
    "# g_k = xx - xx_k + delta_t * (_dpsi / _psi).imag\n",
    "# print(\"xx_k: {:.16f} / g_k: {:.16f}\".format(xx_k, g_k))\n",
    "\n",
    "# for _k in range(10):\n",
    "while True:\n",
    "    _psi, _dpsi, _ddpsi = get_psi_dpsi_ddpsi(xx_k, t_next)\n",
    "    g_k = xx - xx_k + delta_t * (_dpsi / _psi).imag\n",
    "    print(\"xx_k: {:.16f} / g_k: {:.16f}\".format(xx_k, g_k))\n",
    "    \n",
    "    if np.abs(g_k) < g_zero_thres: break\n",
    "    \n",
    "#     _psi, _dpsi, _ddpsi = get_psi_dpsi_ddpsi(xx_k, t_next)\n",
    "    _psi_sq = (_psi.conj() * _psi).real\n",
    "    xx_k_next = xx_k - ( (xx - xx_k)*_psi_sq + delta_t * (_psi.conj()*_dpsi).imag ) / ( delta_t * (_psi.conj()*_ddpsi - _psi.conj() / _psi * (_dpsi*_dpsi)).imag - 1.0)\n",
    "    xx_k = xx_k_next\n",
    "    \n",
    "    "
   ]
  }
 ],
 "metadata": {
  "kernelspec": {
   "display_name": "Python 3",
   "language": "python",
   "name": "python3"
  },
  "language_info": {
   "codemirror_mode": {
    "name": "ipython",
    "version": 3
   },
   "file_extension": ".py",
   "mimetype": "text/x-python",
   "name": "python",
   "nbconvert_exporter": "python",
   "pygments_lexer": "ipython3",
   "version": "3.5.2"
  }
 },
 "nbformat": 4,
 "nbformat_minor": 2
}
