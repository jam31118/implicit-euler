{
 "cells": [
  {
   "cell_type": "markdown",
   "metadata": {},
   "source": [
    "# [DONE|TODO] implement implicit-euler using finite array of state functions and their derivatives\n",
    "\n",
    "# [TODO] Figure out why the error doesn't decrease along the grid spacing\n",
    "\n",
    "# [TODO] Compare the analytical solution of trajectory for gaussian case"
   ]
  },
  {
   "cell_type": "code",
   "execution_count": 1,
   "metadata": {},
   "outputs": [],
   "source": [
    "import numpy as np"
   ]
  },
  {
   "cell_type": "code",
   "execution_count": 2,
   "metadata": {},
   "outputs": [],
   "source": [
    "delta_t = 0.05\n",
    "t0 = 0.0\n",
    "N_t = 5\n",
    "N_timestep = N_t - 1\n",
    "k0 = 0.1\n",
    "x_arr = np.linspace(-2,2,21)\n",
    "x_p_arr = np.array([0.0, 0.31, 0.6])\n",
    "N_p = x_p_arr.size\n",
    "\n",
    "def get_psi(x, t):\n",
    "    return np.exp(1.0j * (k0 * x - 0.5*k0*k0*t))"
   ]
  },
  {
   "cell_type": "code",
   "execution_count": 3,
   "metadata": {},
   "outputs": [],
   "source": [
    "class system(object):\n",
    "    def __init__(self, t0, x_arr, sf_arr_t0):\n",
    "        self.t = t0\n",
    "        self.x_arr = x_arr\n",
    "        self.sf_arr = sf_arr_t0\n",
    "    \n",
    "    def propagate(self, delta_t):\n",
    "        self.t += delta_t\n",
    "        self.sf_arr = get_psi(self.x_arr, self.t)"
   ]
  },
  {
   "cell_type": "code",
   "execution_count": 4,
   "metadata": {},
   "outputs": [],
   "source": [
    "from tdse.finite_difference import eval_deriv_on_equidistanced_grid\n",
    "\n",
    "def prop_xx(xx_t, delta_t, x_arr, sf_arr_next, log=False, g_zero_thres=1e-11, xx_diff_thres=1e-13):\n",
    "    \n",
    "    _xx_t_k = xx_t\n",
    "\n",
    "    while True:\n",
    "\n",
    "        _psi, _dpsi, _ddpsi = eval_deriv_on_equidistanced_grid(\n",
    "            np.array([xx_t]), x_arr, sf_arr_next, orders=[0,1,2], N_s=4)[:,0]\n",
    "        _g_k = xx_t - _xx_t_k + delta_t * (_dpsi / _psi).imag\n",
    "        if log: print(\"xx_t_k: {:.16f} / g_k: {:.16f}\".format(_xx_t_k, _g_k))\n",
    "\n",
    "        if np.abs(_g_k) < g_zero_thres: break\n",
    "\n",
    "        _psi_sq = (_psi.conj() * _psi).real\n",
    "        _xx_t_k_next = _xx_t_k - ( (xx_t - _xx_t_k)*_psi_sq + delta_t * (_psi.conj()*_dpsi).imag ) \\\n",
    "            / ( delta_t * (_psi.conj()*_ddpsi - _psi.conj() / _psi * (_dpsi*_dpsi)).imag - 1.0 )\n",
    "        assert np.abs(_xx_t_k_next - _xx_t_k) > xx_diff_thres\n",
    "        _xx_t_k = _xx_t_k_next\n",
    "    \n",
    "    _xx_t_next = _xx_t_k\n",
    "    \n",
    "    return _xx_t_next"
   ]
  },
  {
   "cell_type": "code",
   "execution_count": 5,
   "metadata": {
    "scrolled": true
   },
   "outputs": [],
   "source": [
    "sys = system(t0, x_arr, get_psi(x_arr,t0))\n",
    "\n",
    "x_p_t_arr = np.empty((N_t, x_p_arr.size), dtype=float)\n",
    "x_p_t_arr[0,:] = x_p_arr\n",
    "\n",
    "for _t_idx in range(N_timestep):\n",
    "    \n",
    "    sys.propagate(delta_t)\n",
    "    \n",
    "    for _i_p in range(x_p_arr.size):\n",
    "        x_p_arr[_i_p] = prop_xx(x_p_arr[_i_p], delta_t, x_arr, sys.sf_arr, log=False)\n",
    "        \n",
    "    x_p_t_arr[_t_idx+1,:] = x_p_arr[:]"
   ]
  },
  {
   "cell_type": "code",
   "execution_count": 6,
   "metadata": {},
   "outputs": [
    {
     "data": {
      "text/plain": [
       "array([[0.   , 0.31 , 0.6  ],\n",
       "       [0.005, 0.315, 0.605],\n",
       "       [0.01 , 0.32 , 0.61 ],\n",
       "       [0.015, 0.325, 0.615],\n",
       "       [0.02 , 0.33 , 0.62 ]])"
      ]
     },
     "execution_count": 6,
     "metadata": {},
     "output_type": "execute_result"
    }
   ],
   "source": [
    "x_p_t_arr"
   ]
  }
 ],
 "metadata": {
  "kernelspec": {
   "display_name": "Python 3",
   "language": "python",
   "name": "python3"
  },
  "language_info": {
   "codemirror_mode": {
    "name": "ipython",
    "version": 3
   },
   "file_extension": ".py",
   "mimetype": "text/x-python",
   "name": "python",
   "nbconvert_exporter": "python",
   "pygments_lexer": "ipython3",
   "version": "3.6.0"
  }
 },
 "nbformat": 4,
 "nbformat_minor": 2
}
