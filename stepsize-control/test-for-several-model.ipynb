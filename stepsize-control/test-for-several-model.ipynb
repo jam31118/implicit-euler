{
 "cells": [
  {
   "cell_type": "code",
   "execution_count": 1,
   "metadata": {},
   "outputs": [],
   "source": [
    "import numpy as np\n",
    "import matplotlib.pyplot as plt"
   ]
  },
  {
   "cell_type": "code",
   "execution_count": 2,
   "metadata": {},
   "outputs": [],
   "source": [
    "from bohm.ode.euler import back_euler"
   ]
  },
  {
   "cell_type": "markdown",
   "metadata": {},
   "source": [
    "# linear"
   ]
  },
  {
   "cell_type": "code",
   "execution_count": 3,
   "metadata": {},
   "outputs": [],
   "source": [
    "c0, c1 = 0.2, 1.0\n",
    "def Fx(t, x): return c0 + c1*x\n",
    "def dxFx(t, x): return c1\n",
    "\n",
    "t0, x0 = -0.5, -1.1\n",
    "t_max = 3.0\n",
    "\n",
    "def x_analytic(t): return (x0 + c0/c1) * np.exp(c1 * (t - t0)) - c0/c1\n",
    "\n",
    "\n",
    "t_arr, x_arr = back_euler(t0, x0, t_max, Fx, dxFx, hi_max=0.05)\n",
    "\n",
    "f_arr = x_analytic(t_arr)"
   ]
  },
  {
   "cell_type": "code",
   "execution_count": 4,
   "metadata": {},
   "outputs": [
    {
     "data": {
      "text/plain": [
       "[<matplotlib.lines.Line2D at 0x7f3c9b854e10>]"
      ]
     },
     "execution_count": 4,
     "metadata": {},
     "output_type": "execute_result"
    },
    {
     "data": {
      "image/png": "[encoded data removed]",
      "text/plain": [
       "<Figure size 432x288 with 1 Axes>"
      ]
     },
     "metadata": {},
     "output_type": "display_data"
    }
   ],
   "source": [
    "fig, ax = plt.subplots()\n",
    "\n",
    "ax.plot(t_arr, f_arr)\n",
    "ax.plot(t_arr, x_arr)\n",
    "\n",
    "ax.plot(t0, x0, 'o')\n",
    "\n",
    "# ax.set_ylim(-1000,0)"
   ]
  },
  {
   "cell_type": "code",
   "execution_count": 5,
   "metadata": {},
   "outputs": [],
   "source": [
    "# fig.savefig(\"back-euler-general-linear-h-controlled-test-0.png\")"
   ]
  },
  {
   "cell_type": "markdown",
   "metadata": {},
   "source": [
    "# square"
   ]
  },
  {
   "cell_type": "markdown",
   "metadata": {},
   "source": [
    "### [TODO] stepsize control for square F is needed"
   ]
  },
  {
   "cell_type": "code",
   "execution_count": 6,
   "metadata": {},
   "outputs": [],
   "source": [
    "def Fx(t, x): return x*x\n",
    "def dxFx(t, x): return 2*x\n",
    "\n",
    "t0, x0 = -0.5, 1.1\n",
    "t_max = 0.4\n",
    "\n",
    "def x_analytic(t): return - 1.0 / (t - t0 - 1.0/x0)\n",
    "\n",
    "\n",
    "t_arr, x_arr = back_euler(t0, x0, t_max, Fx, dxFx, hi_max=0.001, hi_min=0.0001)\n",
    "\n",
    "f_arr = x_analytic(t_arr)"
   ]
  },
  {
   "cell_type": "code",
   "execution_count": 7,
   "metadata": {},
   "outputs": [
    {
     "data": {
      "text/plain": [
       "[<matplotlib.lines.Line2D at 0x7f3c9b77eb00>]"
      ]
     },
     "execution_count": 7,
     "metadata": {},
     "output_type": "execute_result"
    },
    {
     "data": {
      "image/png": "[encoded data removed]",
      "text/plain": [
       "<Figure size 432x288 with 1 Axes>"
      ]
     },
     "metadata": {},
     "output_type": "display_data"
    }
   ],
   "source": [
    "fig, ax = plt.subplots()\n",
    "\n",
    "ax.plot(t_arr, f_arr)\n",
    "ax.plot(t_arr, x_arr)\n",
    "\n",
    "ax.plot(t0, x0, 'o')\n",
    "\n",
    "# ax.set_ylim(-1000,0)"
   ]
  },
  {
   "cell_type": "code",
   "execution_count": 8,
   "metadata": {},
   "outputs": [],
   "source": [
    "# fig.savefig(\"back-euler-square-h-controlled-test-2.png\")"
   ]
  }
 ],
 "metadata": {
  "kernelspec": {
   "display_name": "Python 3",
   "language": "python",
   "name": "python3"
  },
  "language_info": {
   "codemirror_mode": {
    "name": "ipython",
    "version": 3
   },
   "file_extension": ".py",
   "mimetype": "text/x-python",
   "name": "python",
   "nbconvert_exporter": "python",
   "pygments_lexer": "ipython3",
   "version": "3.6.0"
  }
 },
 "nbformat": 4,
 "nbformat_minor": 2
}
