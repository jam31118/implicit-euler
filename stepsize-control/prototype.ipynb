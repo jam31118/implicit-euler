{
 "cells": [
  {
   "cell_type": "markdown",
   "metadata": {},
   "source": [
    "$$a_1 \\equiv 1 - h_i^{guess}\\partial_{x}F|_{\\left(t_{i},x_{i}\\right)}$$\n",
    "\n",
    "$$a_2 \\equiv 1 - h_i^{guess}\\partial_{x}F|_{\\left(t_{i}+h_{i}^{guess},x_{i}\\right)}$$\n",
    "\n",
    "\n",
    "$a_1$ and $a_2$ should be positive."
   ]
  },
  {
   "cell_type": "markdown",
   "metadata": {},
   "source": [
    "# if `_dxFx_tixi` is negative, then, no need to find `hi`, since it doesn't really matter; it is always stable .. may be not, think of a possibility for a bifurcation can happen"
   ]
  },
  {
   "cell_type": "markdown",
   "metadata": {},
   "source": [
    "# Use linear treament just for hi stepsize control, and use pure Newton rapson method to find the proper $x_{i+1}$."
   ]
  },
  {
   "cell_type": "code",
   "execution_count": 97,
   "metadata": {},
   "outputs": [],
   "source": [
    "from numbers import Real\n",
    "\n",
    "def get_stepsize(ti, xi, Fx, dxFx, hi_max,\n",
    "                gamma = 0.8, hi_min = 0.005, forward=True):\n",
    "    if not forward: raise NotImplementedError()\n",
    "    _hi_guess = None\n",
    "    _dxFx_tixi = dxFx(ti, xi)\n",
    "    if _dxFx_tixi > 0: _hi_guess = min(gamma / _dxFx_tixi, hi_max)\n",
    "    else: _hi_guess = hi_max\n",
    "    assert (_hi_guess is not None) is isinstance(_hi_guess, Real)\n",
    "    assert (1 - _hi_guess * _dxFx_tixi) > 0\n",
    "    \n",
    "    _a2 = None\n",
    "    while _hi_guess > hi_min:\n",
    "        _a2 = 1 - _hi_guess * dxFx(ti+_hi_guess, xi)\n",
    "        if _a2 > 0: break\n",
    "        _hi_guess *= gamma\n",
    "    if (_hi_guess <= hi_min): raise Exception(\"hi_min reached - couldn't find good stepsize\")\n",
    "    _hi = _hi_guess\n",
    "    \n",
    "    return _hi"
   ]
  },
  {
   "cell_type": "code",
   "execution_count": 130,
   "metadata": {},
   "outputs": [],
   "source": [
    "def iter_newton(ti, xi, hi, Fx, dxFx, thres=1e-10, N_itermax=10):\n",
    "    _x = xi\n",
    "    _t_next = ti + hi\n",
    "    _x_converged = False\n",
    "    for _i in range(N_itermax):\n",
    "        _Gx = (_x - xi) - hi * Fx(_t_next, _x)\n",
    "        _dxGx = 1.0 - hi * dxFx(_t_next, _x)\n",
    "        assert _dxGx != 0\n",
    "        _x_next = _x - _Gx / _dxGx\n",
    "        _x_converged = abs(_x_next - _x) < thres\n",
    "        print(\"_x_next - _x: {}\".format(_x_next - _x))\n",
    "        if _x_converged: break\n",
    "        _x = _x_next\n",
    "    if not _x_converged or (_i >= N_itermax - 1): raise Exception(\"convergence might have been failed\")\n",
    "    return _x_next"
   ]
  },
  {
   "cell_type": "code",
   "execution_count": 131,
   "metadata": {},
   "outputs": [],
   "source": [
    "def Fx(t, x): return 3.0*x\n",
    "def dxFx(t, x): return 3.0\n",
    "\n",
    "t0, x0 = 0.2, -1.1"
   ]
  },
  {
   "cell_type": "markdown",
   "metadata": {},
   "source": [
    "# try other fzero method also, such as bisection (for overcoming oscillation) .. and considering higher dimension, .. some general method -- consider the MATLAB etc. fzero algorithem"
   ]
  },
  {
   "cell_type": "code",
   "execution_count": 133,
   "metadata": {},
   "outputs": [],
   "source": [
    "from scipy.optimize import root"
   ]
  },
  {
   "cell_type": "code",
   "execution_count": 136,
   "metadata": {},
   "outputs": [],
   "source": [
    "def Gx(x): return (x - x0) - 0.2 * Fx(t0 + 0.2, x)"
   ]
  },
  {
   "cell_type": "code",
   "execution_count": 138,
   "metadata": {},
   "outputs": [
    {
     "data": {
      "text/plain": [
       "array([-2.75])"
      ]
     },
     "execution_count": 138,
     "metadata": {},
     "output_type": "execute_result"
    }
   ],
   "source": [
    "sol = root(Gx, x0)\n",
    "sol.x"
   ]
  },
  {
   "cell_type": "code",
   "execution_count": 183,
   "metadata": {},
   "outputs": [],
   "source": [
    "t_max = 5.0\n",
    "t_list = [t0]\n",
    "x_list = [x0]\n",
    "\n",
    "while t_list[-1] < t_max:\n",
    "    hi = get_stepsize(t_list[-1], x_list[-1], Fx, dxFx, hi_max=1.0, hi_min=0.0001)\n",
    "#     hi = 0.5\n",
    "    t_next = t_list[-1] + hi\n",
    "    def Gx(x): return (x - x_list[-1]) - hi * Fx(t_next, x)\n",
    "    sol = root(Gx, x_list[-1])\n",
    "    x_next = sol.x\n",
    "#     x_next = iter_newton(t_list[-1], x_list[-1], hi, Fx, dxFx)\n",
    "    t_list.append(t_next), x_list.append(x_next)"
   ]
  },
  {
   "cell_type": "code",
   "execution_count": 184,
   "metadata": {},
   "outputs": [
    {
     "data": {
      "text/plain": [
       "0.26666666666666666"
      ]
     },
     "execution_count": 184,
     "metadata": {},
     "output_type": "execute_result"
    }
   ],
   "source": [
    "hi"
   ]
  },
  {
   "cell_type": "code",
   "execution_count": 156,
   "metadata": {},
   "outputs": [],
   "source": [
    "import numpy as np"
   ]
  },
  {
   "cell_type": "code",
   "execution_count": 186,
   "metadata": {},
   "outputs": [],
   "source": [
    "f_arr = x0 * np.exp(2.0 * (np.array(t_list) - t0))"
   ]
  },
  {
   "cell_type": "code",
   "execution_count": 187,
   "metadata": {},
   "outputs": [],
   "source": [
    "import matplotlib.pyplot as plt"
   ]
  },
  {
   "cell_type": "code",
   "execution_count": 188,
   "metadata": {},
   "outputs": [
    {
     "data": {
      "text/plain": [
       "(-1000, 0)"
      ]
     },
     "execution_count": 188,
     "metadata": {},
     "output_type": "execute_result"
    },
    {
     "data": {
      "image/png": "[encoded data removed]",
      "text/plain": [
       "<Figure size 432x288 with 1 Axes>"
      ]
     },
     "metadata": {},
     "output_type": "display_data"
    }
   ],
   "source": [
    "fig, ax = plt.subplots()\n",
    "\n",
    "ax.plot(t_list, f_arr)\n",
    "ax.plot(t_list, x_list)\n",
    "ax.set_ylim(-1000,0)"
   ]
  },
  {
   "cell_type": "code",
   "execution_count": 189,
   "metadata": {},
   "outputs": [],
   "source": [
    "# fig.savefig(\"implicit-euler-k-3-h-0.26-stepsize-controlled-test-0.png\")"
   ]
  },
  {
   "cell_type": "markdown",
   "metadata": {},
   "source": [
    "# ETC"
   ]
  },
  {
   "cell_type": "code",
   "execution_count": 71,
   "metadata": {},
   "outputs": [
    {
     "data": {
      "text/plain": [
       "[-1.1,\n",
       " -5.499999999999997,\n",
       " -27.49999999999999,\n",
       " -137.49999999999997,\n",
       " -687.5,\n",
       " -3437.5000000000005,\n",
       " -17187.500000000007,\n",
       " -85937.49999999999,\n",
       " -429687.5,\n",
       " -2148437.5000000005,\n",
       " -10742187.500000004,\n",
       " -53710937.50000003,\n",
       " -268554687.50000024]"
      ]
     },
     "execution_count": 71,
     "metadata": {},
     "output_type": "execute_result"
    }
   ],
   "source": [
    "x_list"
   ]
  },
  {
   "cell_type": "code",
   "execution_count": null,
   "metadata": {},
   "outputs": [],
   "source": []
  },
  {
   "cell_type": "code",
   "execution_count": 55,
   "metadata": {},
   "outputs": [],
   "source": [
    "from numbers import Real\n",
    "\n",
    "def newton_iter(ti, xi, Fx, dxFx, hi_max,\n",
    "                gamma = 0.8, hi_min = 0.005, forward=True):\n",
    "    if not forward: raise NotImplementedError()\n",
    "    _hi_guess = None\n",
    "    _dxFx_tixi = dxFx(ti, xi)\n",
    "    if _dxFx_tixi > 0: _hi_guess = gamma / _dxFx_tixi\n",
    "    else: _hi_guess = hi_max\n",
    "    assert (_hi_guess is not None) is isinstance(_hi_guess, Real)\n",
    "    assert (1 - _hi_guess * _dxFx_tixi) > 0\n",
    "    \n",
    "    _a2 = None\n",
    "    while _hi_guess > hi_min:\n",
    "        _a2 = 1 - _hi_guess * dxFx(ti+_hi_guess, xi)\n",
    "        print(\"_a2: \", _a2)\n",
    "        if _a2 > 0: break\n",
    "        _hi_guess *= gamma\n",
    "    if (_hi_guess <= hi_min): raise Exception(\"hi_min reached - couldn't find good stepsize\")\n",
    "    _hi = _hi_guess\n",
    "    \n",
    "    _t_next = ti + _hi\n",
    "    _x_next = xi + _hi * Fx(_t_next, xi) / _a2\n",
    "    \n",
    "    print(_a2, Fx(_t_next, xi))\n",
    "    \n",
    "    return _t_next, _x_next"
   ]
  },
  {
   "cell_type": "code",
   "execution_count": 56,
   "metadata": {},
   "outputs": [],
   "source": [
    "def back_euler_iter(ti, xi, Fx, dxFx, hi_max,\n",
    "                    thres = 1e-10, N_itermax=10, gamma = 0.8, hi_min = 0.005, forward=True):\n",
    "    _ti, _xi, _t_next, _x_next = ti, xi, None, None\n",
    "    _g_converged = False\n",
    "    for _ in range(N_itermax):\n",
    "        _t_next, _x_next = newton_iter(_ti, _xi, Fx, dxFx, hi_max=hi_max, \n",
    "                                     gamma=gamma, hi_min=hi_min, forward=forward)\n",
    "        _g = (_x_next - xi) - (_t_next - ti) * Fx(_t_next, _x_next)\n",
    "        print(\"(ti,xi)=({:.3f},{:.3f}) g: {}\".format(ti, xi, _g))\n",
    "        _g_converged = abs(_g) < thres\n",
    "        if _g_converged: break\n",
    "        _ti, _xi = _t_next, _x_next\n",
    "    if not _g_converged or (i >= N_itermax - 1): raise Exception(\"convergence might have been failed\")\n",
    "    return _t_next, _x_next"
   ]
  },
  {
   "cell_type": "code",
   "execution_count": 57,
   "metadata": {},
   "outputs": [],
   "source": [
    "def Fx(t, x): return 2.0*x\n",
    "def dxFx(t, x): return 2.0\n",
    "\n",
    "t0, x0 = 0.2, -1.1"
   ]
  },
  {
   "cell_type": "code",
   "execution_count": 58,
   "metadata": {},
   "outputs": [
    {
     "name": "stdout",
     "output_type": "stream",
     "text": [
      "_a2:  0.19999999999999996\n",
      "0.19999999999999996 -2.2\n",
      "(ti,xi)=(0.200,-1.100) g: 0.0\n",
      "_a2:  0.19999999999999996\n",
      "0.19999999999999996 -11.000000000000004\n",
      "(ti,xi)=(0.600,-5.500) g: -7.105427357601002e-15\n",
      "_a2:  0.19999999999999996\n",
      "0.19999999999999996 -55.00000000000003\n",
      "(ti,xi)=(1.000,-27.500) g: -2.842170943040401e-14\n",
      "_a2:  0.19999999999999996\n",
      "0.19999999999999996 -275.0000000000002\n",
      "(ti,xi)=(1.400,-137.500) g: -1.1368683772161603e-13\n",
      "_a2:  0.19999999999999996\n",
      "0.19999999999999996 -1375.0000000000014\n",
      "(ti,xi)=(1.800,-687.500) g: -4.547473508864641e-13\n",
      "_a2:  0.19999999999999996\n",
      "0.19999999999999996 -6875.000000000009\n",
      "(ti,xi)=(2.200,-3437.500) g: -3.637978807091713e-12\n",
      "_a2:  0.19999999999999996\n",
      "0.19999999999999996 -34375.00000000005\n",
      "(ti,xi)=(2.600,-17187.500) g: -1.4551915228366852e-11\n",
      "_a2:  0.19999999999999996\n",
      "0.19999999999999996 -171875.00000000032\n",
      "(ti,xi)=(3.000,-85937.500) g: -1.1641532182693481e-10\n",
      "_a2:  0.19999999999999996\n",
      "0.19999999999999996 -859375.0000000019\n",
      "(ti,xi)=(3.000,-85937.500) g: 1375000.0000000026\n",
      "_a2:  0.19999999999999996\n",
      "0.19999999999999996 -4296875.00000001\n",
      "(ti,xi)=(3.000,-85937.500) g: 15125000.000000032\n",
      "_a2:  0.19999999999999996\n",
      "0.19999999999999996 -21484375.000000056\n",
      "(ti,xi)=(3.000,-85937.500) g: 118250000.00000033\n",
      "_a2:  0.19999999999999996\n",
      "0.19999999999999996 -107421875.0000003\n",
      "(ti,xi)=(3.000,-85937.500) g: 805750000.0000027\n",
      "_a2:  0.19999999999999996\n",
      "0.19999999999999996 -537109375.0000017\n",
      "(ti,xi)=(3.000,-85937.500) g: 5102625000.000019\n",
      "_a2:  0.19999999999999996\n",
      "0.19999999999999996 -2685546875.0000086\n",
      "(ti,xi)=(3.000,-85937.500) g: 30883875000.000122\n",
      "_a2:  0.19999999999999996\n",
      "0.19999999999999996 -13427734375.000046\n",
      "(ti,xi)=(3.000,-85937.500) g: 181274500000.0008\n",
      "_a2:  0.19999999999999996\n",
      "0.19999999999999996 -67138671875.00025\n",
      "(ti,xi)=(3.000,-85937.500) g: 1040649500000.0046\n",
      "_a2:  0.19999999999999996\n",
      "0.19999999999999996 -335693359375.00134\n",
      "(ti,xi)=(3.000,-85937.500) g: 5874633875000.028\n"
     ]
    },
    {
     "ename": "Exception",
     "evalue": "convergence might have been failed",
     "output_type": "error",
     "traceback": [
      "\u001b[0;31m---------------------------------------------------------------------------\u001b[0m",
      "\u001b[0;31mException\u001b[0m                                 Traceback (most recent call last)",
      "\u001b[0;32m<ipython-input-58-8560b11e2b93>\u001b[0m in \u001b[0;36m<module>\u001b[0;34m()\u001b[0m\n\u001b[1;32m      4\u001b[0m \u001b[0;34m\u001b[0m\u001b[0m\n\u001b[1;32m      5\u001b[0m \u001b[0;32mwhile\u001b[0m \u001b[0mt_list\u001b[0m\u001b[0;34m[\u001b[0m\u001b[0;34m-\u001b[0m\u001b[0;36m1\u001b[0m\u001b[0;34m]\u001b[0m \u001b[0;34m<\u001b[0m \u001b[0mt_max\u001b[0m\u001b[0;34m:\u001b[0m\u001b[0;34m\u001b[0m\u001b[0m\n\u001b[0;32m----> 6\u001b[0;31m     \u001b[0mti\u001b[0m\u001b[0;34m,\u001b[0m \u001b[0mxi\u001b[0m \u001b[0;34m=\u001b[0m \u001b[0mback_euler_iter\u001b[0m\u001b[0;34m(\u001b[0m\u001b[0mt_list\u001b[0m\u001b[0;34m[\u001b[0m\u001b[0;34m-\u001b[0m\u001b[0;36m1\u001b[0m\u001b[0;34m]\u001b[0m\u001b[0;34m,\u001b[0m \u001b[0mx_list\u001b[0m\u001b[0;34m[\u001b[0m\u001b[0;34m-\u001b[0m\u001b[0;36m1\u001b[0m\u001b[0;34m]\u001b[0m\u001b[0;34m,\u001b[0m \u001b[0mFx\u001b[0m\u001b[0;34m,\u001b[0m \u001b[0mdxFx\u001b[0m\u001b[0;34m,\u001b[0m \u001b[0mhi_max\u001b[0m\u001b[0;34m=\u001b[0m\u001b[0;36m0.2\u001b[0m\u001b[0;34m,\u001b[0m \u001b[0mN_itermax\u001b[0m\u001b[0;34m=\u001b[0m\u001b[0;36m10\u001b[0m\u001b[0;34m)\u001b[0m\u001b[0;34m\u001b[0m\u001b[0m\n\u001b[0m\u001b[1;32m      7\u001b[0m     \u001b[0mt_list\u001b[0m\u001b[0;34m.\u001b[0m\u001b[0mappend\u001b[0m\u001b[0;34m(\u001b[0m\u001b[0mti\u001b[0m\u001b[0;34m)\u001b[0m\u001b[0;34m,\u001b[0m \u001b[0mx_list\u001b[0m\u001b[0;34m.\u001b[0m\u001b[0mappend\u001b[0m\u001b[0;34m(\u001b[0m\u001b[0mxi\u001b[0m\u001b[0;34m)\u001b[0m\u001b[0;34m\u001b[0m\u001b[0m\n",
      "\u001b[0;32m<ipython-input-56-3d07d499e1e2>\u001b[0m in \u001b[0;36mback_euler_iter\u001b[0;34m(ti, xi, Fx, dxFx, hi_max, thres, N_itermax, gamma, hi_min, forward)\u001b[0m\n\u001b[1;32m     11\u001b[0m         \u001b[0;32mif\u001b[0m \u001b[0m_g_converged\u001b[0m\u001b[0;34m:\u001b[0m \u001b[0;32mbreak\u001b[0m\u001b[0;34m\u001b[0m\u001b[0m\n\u001b[1;32m     12\u001b[0m         \u001b[0m_ti\u001b[0m\u001b[0;34m,\u001b[0m \u001b[0m_xi\u001b[0m \u001b[0;34m=\u001b[0m \u001b[0m_t_next\u001b[0m\u001b[0;34m,\u001b[0m \u001b[0m_x_next\u001b[0m\u001b[0;34m\u001b[0m\u001b[0m\n\u001b[0;32m---> 13\u001b[0;31m     \u001b[0;32mif\u001b[0m \u001b[0;32mnot\u001b[0m \u001b[0m_g_converged\u001b[0m \u001b[0;32mor\u001b[0m \u001b[0;34m(\u001b[0m\u001b[0mi\u001b[0m \u001b[0;34m>=\u001b[0m \u001b[0mN_itermax\u001b[0m \u001b[0;34m-\u001b[0m \u001b[0;36m1\u001b[0m\u001b[0;34m)\u001b[0m\u001b[0;34m:\u001b[0m \u001b[0;32mraise\u001b[0m \u001b[0mException\u001b[0m\u001b[0;34m(\u001b[0m\u001b[0;34m\"convergence might have been failed\"\u001b[0m\u001b[0;34m)\u001b[0m\u001b[0;34m\u001b[0m\u001b[0m\n\u001b[0m\u001b[1;32m     14\u001b[0m     \u001b[0;32mreturn\u001b[0m \u001b[0m_t_next\u001b[0m\u001b[0;34m,\u001b[0m \u001b[0m_x_next\u001b[0m\u001b[0;34m\u001b[0m\u001b[0m\n",
      "\u001b[0;31mException\u001b[0m: convergence might have been failed"
     ]
    }
   ],
   "source": [
    "t_max = 5.0\n",
    "t_list = [t0]\n",
    "x_list = [x0]\n",
    "\n",
    "while t_list[-1] < t_max:\n",
    "    ti, xi = back_euler_iter(t_list[-1], x_list[-1], Fx, dxFx, hi_max=0.2, N_itermax=10)\n",
    "    t_list.append(ti), x_list.append(xi)"
   ]
  },
  {
   "cell_type": "code",
   "execution_count": 45,
   "metadata": {},
   "outputs": [
    {
     "data": {
      "text/plain": [
       "[0.2,\n",
       " 0.6000000000000001,\n",
       " 1.0,\n",
       " 1.4,\n",
       " 1.7999999999999998,\n",
       " 2.1999999999999997,\n",
       " 2.5999999999999996,\n",
       " 2.9999999999999996]"
      ]
     },
     "execution_count": 45,
     "metadata": {},
     "output_type": "execute_result"
    }
   ],
   "source": [
    "t_list"
   ]
  },
  {
   "cell_type": "code",
   "execution_count": 46,
   "metadata": {},
   "outputs": [
    {
     "data": {
      "text/plain": [
       "[-1.1,\n",
       " -5.500000000000002,\n",
       " -27.500000000000014,\n",
       " -137.5000000000001,\n",
       " -687.5000000000007,\n",
       " -3437.5000000000045,\n",
       " -17187.500000000025,\n",
       " -85937.50000000016]"
      ]
     },
     "execution_count": 46,
     "metadata": {},
     "output_type": "execute_result"
    }
   ],
   "source": [
    "x_list"
   ]
  },
  {
   "cell_type": "code",
   "execution_count": 9,
   "metadata": {},
   "outputs": [
    {
     "data": {
      "text/plain": [
       "-5.500000000000002"
      ]
     },
     "execution_count": 9,
     "metadata": {},
     "output_type": "execute_result"
    }
   ],
   "source": [
    "1 / (1 - 2 * 0.4) * xi"
   ]
  },
  {
   "cell_type": "code",
   "execution_count": 19,
   "metadata": {},
   "outputs": [
    {
     "data": {
      "text/plain": [
       "(0.6000000000000001, -5.500000000000002)"
      ]
     },
     "execution_count": 19,
     "metadata": {},
     "output_type": "execute_result"
    }
   ],
   "source": [
    "newton_iter(t0, x0, Fx, dxFx, hi_max=0.2)"
   ]
  },
  {
   "cell_type": "code",
   "execution_count": 50,
   "metadata": {},
   "outputs": [],
   "source": [
    "from numbers import Real\n",
    "\n",
    "alpha = 0.8\n",
    "gamma = 0.8\n",
    "N_itermax_hi = 5  # [IMPROVEMENT] may be replaced by lower bound of hi_guess\n",
    "N_itermax = 10\n",
    "hi_guess_min = 0.005\n",
    "g_thres = 1e-10  # [IMPROVEMENT] set it according to something\n",
    "assert (0 < alpha) and (alpha < 1)\n",
    "assert (0 < gamma) and (gamma < 1)\n",
    "\n",
    "_ti, _xi = ti, xi\n",
    "\n",
    "for _ in range(N_itermax):\n",
    "\n",
    "    _dxFx_tixi = dxFx(_ti, _xi)\n",
    "    if _dxFx_tixi == 0: raise NotImplementedError(\"waiting for second-order approx\")\n",
    "    _hi_guess = alpha / abs(_dxFx_tixi)\n",
    "\n",
    "    # Find stepsize (`hi_guess`) which makes `a1` positive\n",
    "    _a1 = None\n",
    "    for _ in range(N_itermax_hi):\n",
    "        _a1 = 1 - _hi_guess * _dxFx_tixi\n",
    "        if _a1 > 0: break\n",
    "        _hi_guess *= gamma\n",
    "    assert (_a1 is not None) and isinstance(_a1, Real)\n",
    "    if not (_a1 > 0): raise Exception(\"`N_itermax` exceeded\")\n",
    "\n",
    "    _a2 = None\n",
    "    for _ in range(N_itermax_hi):\n",
    "        _a2 = 1 - _hi_guess * dxFx(_ti + _hi_guess, _xi)\n",
    "        if a2 > 0: break\n",
    "        _hi_guess *= gamma\n",
    "    assert (_a2 is not None) and isinstance(_a2, Real)\n",
    "    if not (_a2 > 0): raise Exception(\"`N_itermax` exceeded\")\n",
    "\n",
    "    _hi = _hi_guess\n",
    "    _t_next = _ti + _hi\n",
    "    # [IMRROVMENT] dxFx has already been evaluated. Let's use that one\n",
    "    _x_next = _xi + (_hi * Fx(_t_next, _xi)) / (1.0 - _hi * dxFx(_t_next, _xi))\n",
    "    \n",
    "    _g = (_x_next - _xi) - _hi * Fx(_t_next, _x_next)\n",
    "    if abs(_g) < g_thres: break\n",
    "    \n",
    "    _xi, _ti = _x_next, _t_next\n",
    "\n",
    "if not (abs(_g) < g_thres): raise Exception(\"Unexpected!\")"
   ]
  },
  {
   "cell_type": "code",
   "execution_count": 51,
   "metadata": {},
   "outputs": [
    {
     "data": {
      "text/plain": [
       "2.0"
      ]
     },
     "execution_count": 51,
     "metadata": {},
     "output_type": "execute_result"
    }
   ],
   "source": [
    "_dxFx_tixi"
   ]
  },
  {
   "cell_type": "code",
   "execution_count": 52,
   "metadata": {},
   "outputs": [
    {
     "data": {
      "text/plain": [
       "-1.1"
      ]
     },
     "execution_count": 52,
     "metadata": {},
     "output_type": "execute_result"
    }
   ],
   "source": [
    "xi"
   ]
  },
  {
   "cell_type": "code",
   "execution_count": 53,
   "metadata": {},
   "outputs": [
    {
     "data": {
      "text/plain": [
       "-5.500000000000002"
      ]
     },
     "execution_count": 53,
     "metadata": {},
     "output_type": "execute_result"
    }
   ],
   "source": [
    "_x_next"
   ]
  },
  {
   "cell_type": "code",
   "execution_count": 54,
   "metadata": {},
   "outputs": [
    {
     "data": {
      "text/plain": [
       "0.4"
      ]
     },
     "execution_count": 54,
     "metadata": {},
     "output_type": "execute_result"
    }
   ],
   "source": [
    "_hi"
   ]
  },
  {
   "cell_type": "code",
   "execution_count": 55,
   "metadata": {},
   "outputs": [
    {
     "data": {
      "text/plain": [
       "0.4"
      ]
     },
     "execution_count": 55,
     "metadata": {},
     "output_type": "execute_result"
    }
   ],
   "source": [
    "_hi_guess"
   ]
  },
  {
   "cell_type": "code",
   "execution_count": 56,
   "metadata": {},
   "outputs": [
    {
     "data": {
      "text/plain": [
       "0.2"
      ]
     },
     "execution_count": 56,
     "metadata": {},
     "output_type": "execute_result"
    }
   ],
   "source": [
    "_ti"
   ]
  },
  {
   "cell_type": "code",
   "execution_count": 57,
   "metadata": {},
   "outputs": [
    {
     "data": {
      "text/plain": [
       "0.6000000000000001"
      ]
     },
     "execution_count": 57,
     "metadata": {},
     "output_type": "execute_result"
    }
   ],
   "source": [
    "_t_next"
   ]
  },
  {
   "cell_type": "code",
   "execution_count": 58,
   "metadata": {},
   "outputs": [],
   "source": [
    "import numpy as np"
   ]
  },
  {
   "cell_type": "code",
   "execution_count": 60,
   "metadata": {},
   "outputs": [
    {
     "data": {
      "text/plain": [
       "-2.448095021341715"
      ]
     },
     "execution_count": 60,
     "metadata": {},
     "output_type": "execute_result"
    }
   ],
   "source": [
    "-1.1 * np.exp(2*(_t_next - _ti))"
   ]
  }
 ],
 "metadata": {
  "kernelspec": {
   "display_name": "Python 3",
   "language": "python",
   "name": "python3"
  },
  "language_info": {
   "codemirror_mode": {
    "name": "ipython",
    "version": 3
   },
   "file_extension": ".py",
   "mimetype": "text/x-python",
   "name": "python",
   "nbconvert_exporter": "python",
   "pygments_lexer": "ipython3",
   "version": "3.8.1"
  }
 },
 "nbformat": 4,
 "nbformat_minor": 2
}
