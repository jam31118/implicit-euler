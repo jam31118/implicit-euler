{
 "cells": [
  {
   "cell_type": "markdown",
   "metadata": {},
   "source": [
    "# notes\n",
    "\n",
    "$$a_1 \\equiv 1 - h_i^{guess}\\partial_{x}F|_{\\left(t_{i},x_{i}\\right)}$$\n",
    "\n",
    "$$a_2 \\equiv 1 - h_i^{guess}\\partial_{x}F|_{\\left(t_{i}+h_{i}^{guess},x_{i}\\right)}$$\n",
    "\n",
    "\n",
    "$a_1$ and $a_2$ should be positive."
   ]
  },
  {
   "cell_type": "markdown",
   "metadata": {},
   "source": [
    "### [DONE] if `_dxFx_tixi` is negative, then, no need to find `hi`, since it doesn't really matter; it is always stable .. \n",
    "### -> may be not, think of a possibility for a bifurcation can happen"
   ]
  },
  {
   "cell_type": "markdown",
   "metadata": {},
   "source": [
    "### [DONE] Use linear treament just for hi stepsize control, and use pure Newton rapson method to find the proper $x_{i+1}$. --> other method such as `hybrid` wrapped in `scipy.optimize.root()` may be used"
   ]
  },
  {
   "cell_type": "markdown",
   "metadata": {},
   "source": [
    "### Implement backward propagation"
   ]
  },
  {
   "cell_type": "code",
   "execution_count": 1,
   "metadata": {},
   "outputs": [],
   "source": [
    "import numpy as np\n",
    "\n",
    "import matplotlib.pyplot as plt"
   ]
  },
  {
   "cell_type": "code",
   "execution_count": 2,
   "metadata": {},
   "outputs": [],
   "source": [
    "from numbers import Real\n",
    "\n",
    "def get_stepsize(ti, xi, Fx, dxFx, hi_max,\n",
    "                gamma = 0.8, hi_min = 0.005, forward=True):\n",
    "    \"\"\" \n",
    "    An appropreiate stepsize is estimated \n",
    "    where the implicit Euler method may work.\n",
    "    \n",
    "    # Arguments\n",
    "    - `ti`: given time point\n",
    "    - `xi`: x(ti), given value at given time point `ti`\n",
    "    - `Fx`: 'F(x,t)=dx(t)/dt', time derivative of function 'x(t)'\n",
    "    - `dxFx`: 'x' derivative of `Fx`\n",
    "    - `hi_max`: upper bound of stepsize\n",
    "    - `gamma`: 0 < float < 1\n",
    "    - `hi_min`: lower bound of stepsize\n",
    "    - `forward`: time direction. the timestep is positive when `forward==True`\n",
    "    \"\"\"\n",
    "    \n",
    "    if not forward: raise NotImplementedError(\n",
    "        \"backward time flow hasn't been dealt yet\")\n",
    "    assert isinstance(gamma, Real) and (0 < gamma) and (gamma < 1)\n",
    "    \n",
    "    _hi_guess = None\n",
    "    \n",
    "    _dxFx_tixi = dxFx(ti, xi)\n",
    "    if _dxFx_tixi > 0: _hi_guess = min(gamma / _dxFx_tixi, hi_max)\n",
    "    else: _hi_guess = hi_max\n",
    "    assert isinstance(_hi_guess, Real)\n",
    "    assert (1 - _hi_guess * _dxFx_tixi) > 0\n",
    "    \n",
    "    _a2 = None\n",
    "    while _hi_guess > hi_min:\n",
    "        _a2 = 1 - _hi_guess * dxFx(ti+_hi_guess, xi)\n",
    "        if _a2 > 0: break\n",
    "        _hi_guess *= gamma\n",
    "    if (_hi_guess <= hi_min): raise Exception(\"hi_min reached - couldn't find good stepsize\")\n",
    "    _hi = _hi_guess\n",
    "    \n",
    "    return _hi"
   ]
  },
  {
   "cell_type": "markdown",
   "metadata": {},
   "source": [
    "# [DONE, by using MINPACK wrapper] try other fzero method also, such as bisection (for overcoming oscillation) .. and considering higher dimension, .. some general method -- consider the MATLAB etc. fzero algorithem"
   ]
  },
  {
   "cell_type": "code",
   "execution_count": 3,
   "metadata": {},
   "outputs": [],
   "source": [
    "import numpy as np\n",
    "from scipy.optimize import root\n",
    "\n",
    "def back_euler(t0, x0, t_max, Fx, dxFx, hi_max, **stepsize_kwarg):\n",
    "    _t_list = [t0]\n",
    "    _x_list = [x0]\n",
    "\n",
    "    while _t_list[-1] < t_max:\n",
    "        _ti, _xi = _t_list[-1], _x_list[-1]\n",
    "        _hi = get_stepsize(_ti, _xi, Fx, dxFx, hi_max, **stepsize_kwarg)\n",
    "        _t_next = _ti + _hi\n",
    "        def _Gx(x): return (x - _xi) - _hi * Fx(_t_next, x)\n",
    "        _sol = root(_Gx, _xi)  # jacobian may be supplied\n",
    "        if _sol.success and _sol.x.size == 1: _x_next, = _sol.x\n",
    "        else: raise Exception(\"unique root search failed due to '{}'\".format(_sol.message))\n",
    "        _t_list.append(_t_next), _x_list.append(_x_next)\n",
    "    \n",
    "    _t_arr, _x_arr = np.array(_t_list), np.array(_x_list)\n",
    "    return _t_arr, _x_arr"
   ]
  },
  {
   "cell_type": "code",
   "execution_count": 4,
   "metadata": {},
   "outputs": [],
   "source": [
    "from bohm.ode.euler import back_euler"
   ]
  },
  {
   "cell_type": "code",
   "execution_count": 5,
   "metadata": {},
   "outputs": [],
   "source": [
    "def Fx(t, x): return 3.0*x\n",
    "def dxFx(t, x): return 3.0\n",
    "\n",
    "t0, x0 = 0.2, -1.1\n",
    "t_max = 3.0"
   ]
  },
  {
   "cell_type": "code",
   "execution_count": 6,
   "metadata": {},
   "outputs": [],
   "source": [
    "t_arr, x_arr = back_euler(t0, x0, t_max, Fx, dxFx, hi_max=0.1)"
   ]
  },
  {
   "cell_type": "code",
   "execution_count": 7,
   "metadata": {},
   "outputs": [],
   "source": [
    "f_arr = x0 * np.exp(3.0 * (np.array(t_arr) - t0))"
   ]
  },
  {
   "cell_type": "code",
   "execution_count": 8,
   "metadata": {},
   "outputs": [
    {
     "data": {
      "text/plain": [
       "(-1000, 0)"
      ]
     },
     "execution_count": 8,
     "metadata": {},
     "output_type": "execute_result"
    },
    {
     "data": {
      "image/png": "[encoded data removed]",
      "text/plain": [
       "<Figure size 432x288 with 1 Axes>"
      ]
     },
     "metadata": {},
     "output_type": "display_data"
    }
   ],
   "source": [
    "fig, ax = plt.subplots()\n",
    "\n",
    "ax.plot(t_arr, f_arr)\n",
    "ax.plot(t_arr, x_arr)\n",
    "ax.set_ylim(-1000,0)"
   ]
  },
  {
   "cell_type": "code",
   "execution_count": 9,
   "metadata": {},
   "outputs": [],
   "source": [
    "# fig.savefig(\"implicit-euler-k-3-h-0.1-stepsize-controlled-test-0.png\")"
   ]
  },
  {
   "cell_type": "markdown",
   "metadata": {},
   "source": [
    "# etc. routine"
   ]
  },
  {
   "cell_type": "code",
   "execution_count": 10,
   "metadata": {},
   "outputs": [],
   "source": [
    "def iter_newton(ti, xi, hi, Fx, dxFx, thres=1e-10, N_itermax=10):\n",
    "    _x = xi\n",
    "    _t_next = ti + hi\n",
    "    _x_converged = False\n",
    "    for _i in range(N_itermax):\n",
    "        _Gx = (_x - xi) - hi * Fx(_t_next, _x)\n",
    "        _dxGx = 1.0 - hi * dxFx(_t_next, _x)\n",
    "        assert _dxGx != 0\n",
    "        _x_next = _x - _Gx / _dxGx\n",
    "        _x_converged = abs(_x_next - _x) < thres\n",
    "        print(\"_x_next - _x: {}\".format(_x_next - _x))\n",
    "        if _x_converged: break\n",
    "        _x = _x_next\n",
    "    if not _x_converged or (_i >= N_itermax - 1): \n",
    "        raise Exception(\"convergence might have been failed\")\n",
    "    return _x_next"
   ]
  }
 ],
 "metadata": {
  "kernelspec": {
   "display_name": "Python 3",
   "language": "python",
   "name": "python3"
  },
  "language_info": {
   "codemirror_mode": {
    "name": "ipython",
    "version": 3
   },
   "file_extension": ".py",
   "mimetype": "text/x-python",
   "name": "python",
   "nbconvert_exporter": "python",
   "pygments_lexer": "ipython3",
   "version": "3.6.0"
  }
 },
 "nbformat": 4,
 "nbformat_minor": 2
}
