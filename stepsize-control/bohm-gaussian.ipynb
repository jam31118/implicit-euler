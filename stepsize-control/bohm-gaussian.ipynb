{
 "cells": [
  {
   "cell_type": "markdown",
   "metadata": {},
   "source": [
    "### replace default value of argument (e.g. `gamma`, `hi_min`) to defined values in module file\n",
    "\n",
    "### Test for several set of initial values\n",
    "\n",
    "## How can I find those kind of `t0+1/x0` singular point .. where propagation is not possible .. although,, in Bohm, there is always solution if started from regular point -- thus, small enough stepsize always exist to\n",
    "\n",
    "# compare implicit and explicit Euler"
   ]
  },
  {
   "cell_type": "code",
   "execution_count": 1,
   "metadata": {},
   "outputs": [],
   "source": [
    "import numpy as np\n",
    "import matplotlib.pyplot as plt\n",
    "\n",
    "from matplotlib import rcParams\n",
    "rcParams['font.size'] = 15"
   ]
  },
  {
   "cell_type": "code",
   "execution_count": 2,
   "metadata": {},
   "outputs": [],
   "source": [
    "from bohm.ode.euler import get_stepsize, back_euler\n",
    "\n",
    "from bohm.sampling import quantile"
   ]
  },
  {
   "cell_type": "code",
   "execution_count": 132,
   "metadata": {},
   "outputs": [
    {
     "name": "stdout",
     "output_type": "stream",
     "text": [
      "number of particles: 42\n"
     ]
    }
   ],
   "source": [
    "from tdse.analytic.state import Gaussian1D, gradient_Gaussian1D, laplacian_Gaussian1D\n",
    "\n",
    "A1, A2 = 1.0, 0.8\n",
    "kx1, kx2 = 0.0, 0.0\n",
    "xc1, xc2 = -2.0, 2.0\n",
    "t01, t02 = 0.0, 0.1\n",
    "def psi(t,x): return A1 * Gaussian1D(x-xc1,t-t01,kx1) + A2 * Gaussian1D(x-xc2,t-t02,kx2)\n",
    "def dxpsi(t,x): return A1 * gradient_Gaussian1D(x-xc1,t-t01,kx1) + A2 * gradient_Gaussian1D(x-xc2,t-t02,kx2)\n",
    "def dx2psi(t,x): return A1 * laplacian_Gaussian1D(x-xc1,t-t01,kx1) + A2 * laplacian_Gaussian1D(x-xc2,t-t02,kx2)\n",
    "\n",
    "def Fx(t,x): return (dxpsi(t,x) / psi(t,x)).imag\n",
    "def dxFx(t,x): return (dx2psi(t,x)/psi(t,x) - (dxpsi(t,x)/psi(t,x))**2).imag\n",
    "\n",
    "t0 = -3\n",
    "t_max = 3\n",
    "\n",
    "x_arr = np.linspace(-8,8,71)\n",
    "\n",
    "quant_arr = np.linspace(0.05, 0.95, 21)\n",
    "prob0_arr = np.square(np.abs(psi(t0, x_arr)))\n",
    "x0_arr_pool = quantile(x_arr, prob0_arr, quant_arr)\n",
    "# x0_arr = np.linspace(-3, 1, 30)\n",
    "\n",
    "x0_arr = x0_arr_pool[np.abs(psi(t0,x0_arr_pool)) > 0.4]\n",
    "assert np.all(np.abs(psi(t0, x0_arr)) != 0)\n",
    "print(\"number of particles: {}\".format(x0_arr.size))"
   ]
  },
  {
   "cell_type": "code",
   "execution_count": 133,
   "metadata": {},
   "outputs": [
    {
     "name": "stdout",
     "output_type": "stream",
     "text": [
      "_i: 16, _h: 0.005, _t: 0.2784482758620691, _t_next: 0.2834482758620691, _t_target: 0.31034482758620685\n",
      "t0: -3, x0: 4.961409271193066, _x: 2.2875344452911897\n",
      "Fx: 0.0951829848169272, dxFx: 0.33110212304695175\n",
      "sol:      fjac: array([[-1.]])\n",
      "     fun: array([1.0467972e-16])\n",
      " message: 'The iteration is not making good progress, as measured by the \\n  improvement from the last ten iterations.'\n",
      "    nfev: 14\n",
      "     qtf: array([-1.0467972e-16])\n",
      "       r: array([-1.11022302e-16])\n",
      "  status: 5\n",
      " success: False\n",
      "       x: array([2.28802255])\n"
     ]
    },
    {
     "ename": "Exception",
     "evalue": "unique root search failed due to 'The iteration is not making good progress, as measured by the \n  improvement from the last ten iterations.'",
     "output_type": "error",
     "traceback": [
      "\u001b[0;31m-----------------------------------------------------------------\u001b[0m",
      "\u001b[0;31mException\u001b[0m                       Traceback (most recent call last)",
      "\u001b[0;32m<ipython-input-133-af84a19552fb>\u001b[0m in \u001b[0;36m<module>\u001b[0;34m()\u001b[0m\n\u001b[1;32m      7\u001b[0m \u001b[0;32mfor\u001b[0m \u001b[0mi\u001b[0m \u001b[0;32min\u001b[0m \u001b[0mrange\u001b[0m\u001b[0;34m(\u001b[0m\u001b[0mx0_arr\u001b[0m\u001b[0;34m.\u001b[0m\u001b[0msize\u001b[0m\u001b[0;34m)\u001b[0m\u001b[0;34m:\u001b[0m\u001b[0;34m\u001b[0m\u001b[0m\n\u001b[1;32m      8\u001b[0m     _, xp_arr = back_euler(t0, x0_arr[i], t_max, Fx, dxFx, h_max, \n\u001b[0;32m----> 9\u001b[0;31m                           t_arr=t_arr, gamma=gamma, hi_min=h_min)\n\u001b[0m\u001b[1;32m     10\u001b[0m     \u001b[0mx_t_arr\u001b[0m\u001b[0;34m[\u001b[0m\u001b[0;34m:\u001b[0m\u001b[0;34m,\u001b[0m\u001b[0mi\u001b[0m\u001b[0;34m]\u001b[0m \u001b[0;34m=\u001b[0m \u001b[0mxp_arr\u001b[0m\u001b[0;34m\u001b[0m\u001b[0m\n",
      "\u001b[0;32m~/Dropbox/tdse/packages/bohm/bohm/ode/euler.py\u001b[0m in \u001b[0;36mback_euler\u001b[0;34m(t0, x0, t_max, Fx, dxFx, hi_max, t_arr, **stepsize_kwarg)\u001b[0m\n\u001b[1;32m    100\u001b[0m                     \u001b[0mprint\u001b[0m\u001b[0;34m(\u001b[0m\u001b[0;34m\"sol: \"\u001b[0m\u001b[0;34m,\u001b[0m \u001b[0m_sol\u001b[0m\u001b[0;34m)\u001b[0m\u001b[0;34m\u001b[0m\u001b[0m\n\u001b[1;32m    101\u001b[0m                     raise Exception(\n\u001b[0;32m--> 102\u001b[0;31m                         \"unique root search failed due to '{}'\".format(_sol.message))\n\u001b[0m\u001b[1;32m    103\u001b[0m \u001b[0;34m\u001b[0m\u001b[0m\n\u001b[1;32m    104\u001b[0m             \u001b[0m_t\u001b[0m\u001b[0;34m,\u001b[0m \u001b[0m_x\u001b[0m \u001b[0;34m=\u001b[0m \u001b[0m_t_next\u001b[0m\u001b[0;34m,\u001b[0m \u001b[0m_x_next\u001b[0m\u001b[0;34m\u001b[0m\u001b[0m\n",
      "\u001b[0;31mException\u001b[0m: unique root search failed due to 'The iteration is not making good progress, as measured by the \n  improvement from the last ten iterations.'"
     ]
    }
   ],
   "source": [
    "t_arr = np.linspace(t0, t_max, 30)\n",
    "x_t_arr = np.empty((t_arr.size, x0_arr.size), dtype=float)\n",
    "x_t_arr[0,:] = x0_arr\n",
    "\n",
    "h_max, gamma, h_min = 0.005, 0.5, 0.0001\n",
    "\n",
    "for i in range(x0_arr.size):\n",
    "    _, xp_arr = back_euler(t0, x0_arr[i], t_max, Fx, dxFx, h_max, \n",
    "                          t_arr=t_arr, gamma=gamma, hi_min=h_min)\n",
    "    x_t_arr[:,i] = xp_arr"
   ]
  },
  {
   "cell_type": "code",
   "execution_count": null,
   "metadata": {},
   "outputs": [],
   "source": [
    "# figs, axs = plt.subplots()\n",
    "\n",
    "# # x_arr = np.linspace(x0_arr.min(), x0_arr.max())\n",
    "# axs.plot(x_arr, np.square(np.abs(psi(t0, x_arr))))\n",
    "# axs.vlines(x0_arr, 0, 1)"
   ]
  },
  {
   "cell_type": "code",
   "execution_count": null,
   "metadata": {},
   "outputs": [],
   "source": [
    "from vis.plot import construct_catesian_mesh_for_pcolormesh\n",
    "\n",
    "# xt_min, xt_max = x_t_arr.min(), x_t_arr.max()\n",
    "# xt_len = xt_max - xt_min\n",
    "# xlim = (xt_min - 0.2 * xt_len, xt_max + 0.2 * xt_len)\n",
    "\n",
    "xlim = (x_arr[0], x_arr[-1])\n",
    "\n",
    "t_grid_vals = np.linspace(t0, t_max, 50)\n",
    "x_grid_vals = np.linspace(*xlim, 50)\n",
    "T_grid, X_grid = construct_catesian_mesh_for_pcolormesh(t_grid_vals, x_grid_vals)\n",
    "T, X = np.meshgrid(t_grid_vals, x_grid_vals, indexing='ij')"
   ]
  },
  {
   "cell_type": "code",
   "execution_count": null,
   "metadata": {},
   "outputs": [],
   "source": [
    "from matplotlib.colors import LogNorm, Normalize\n",
    "\n",
    "psi_val = psi(T, X)\n",
    "C = np.square(np.abs(psi_val))\n",
    "vmax = C.max()\n",
    "vmin = vmax * pow(10, -1.4)\n",
    "# vmin = None\n",
    "\n",
    "# norm = LogNorm(vmin, vmax)\n",
    "norm = Normalize(vmin, vmax)"
   ]
  },
  {
   "cell_type": "markdown",
   "metadata": {},
   "source": [
    "# [DONE] Implement sampling from the initial distribution\n",
    "\n",
    "# Optimize each routine, especially in terms of derivative evaluation"
   ]
  },
  {
   "cell_type": "code",
   "execution_count": null,
   "metadata": {},
   "outputs": [],
   "source": [
    "from matplotlib import cm\n",
    "\n",
    "fig, ax = plt.subplots()\n",
    "\n",
    "ax.contourf(X_grid[:-1,:-1], T_grid[:-1,:-1], C, \n",
    "            cmap=cm.jet, levels=cm.jet.N, norm=norm)\n",
    "\n",
    "for i in range(x0_arr.size):\n",
    "    l_num, = ax.plot(x_t_arr[:,i], t_arr, '.-w', linewidth=0.5)\n",
    "\n",
    "ax.set_ylim(T_grid[:-1,:-1].min(), T_grid[:-1,:-1].max())\n",
    "ax.set_xlim(X_grid[:-1,:-1].min(), X_grid[:-1,:-1].max())\n",
    "\n",
    "ax.set_title(\"`h_max`={}, `gamma`={}\".format(h_max, gamma))\n",
    "ax.set_ylabel(\"time / a.u.\")\n",
    "ax.set_xlabel(\"x / a.u.\")"
   ]
  },
  {
   "cell_type": "code",
   "execution_count": null,
   "metadata": {},
   "outputs": [],
   "source": [
    "fig_fname = \"step-esti-two-gaussian-A1-{}-A2-{}-t01-{}-t02-{}-hmax-{}-gamma-{}-with-map-test-2.png\".format(\n",
    "    A1, A2, t01, t02, h_max,gamma)\n",
    "print(fig_fname)\n",
    "# fig.savefig(fig_fname)"
   ]
  }
 ],
 "metadata": {
  "kernelspec": {
   "display_name": "Python 3",
   "language": "python",
   "name": "python3"
  },
  "language_info": {
   "codemirror_mode": {
    "name": "ipython",
    "version": 3
   },
   "file_extension": ".py",
   "mimetype": "text/x-python",
   "name": "python",
   "nbconvert_exporter": "python",
   "pygments_lexer": "ipython3",
   "version": "3.6.0"
  }
 },
 "nbformat": 4,
 "nbformat_minor": 2
}
