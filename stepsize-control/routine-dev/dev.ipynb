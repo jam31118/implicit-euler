{
 "cells": [
  {
   "cell_type": "code",
   "execution_count": 1,
   "metadata": {},
   "outputs": [],
   "source": [
    "import numpy as np\n",
    "\n",
    "import matplotlib.pyplot as plt"
   ]
  },
  {
   "cell_type": "markdown",
   "metadata": {},
   "source": [
    "# [TODO][IMPORTANT] Always, the convergence of solution with respect to the time steps is crucial"
   ]
  },
  {
   "cell_type": "markdown",
   "metadata": {},
   "source": [
    "# [TODO] Possible improvement:\n",
    "\n",
    "- the initial guess when finding the root during `find_dx()`\n",
    "- put `jac` for finding root during `find_dx()`"
   ]
  },
  {
   "cell_type": "code",
   "execution_count": 2,
   "metadata": {},
   "outputs": [],
   "source": [
    "from scipy.optimize import root\n",
    "\n",
    "def find_dx(f, dx_df, tn, xn, dt, callback=None, disp=False):\n",
    "    \"\"\"Find `dx` such that `x_{n+1} = x_{n} + dx`\"\"\"\n",
    "    \n",
    "    def _g(_dx, _f, _dx_df, _tn, _xn, _dt):\n",
    "        return -_dx + _dt * _f(_tn+_dt, _xn+_dx)\n",
    "    \n",
    "    def _jac_g(_dx, _f, _dx_df, _tn, _xn, _dt):\n",
    "        return -1 + _dt * _dx_df(_tn+_dt, _xn+_dx)\n",
    "    \n",
    "    _dx0 = np.array([0.0], dtype=float)\n",
    "    _g_args = (f, dx_df, tn, xn, dt)\n",
    "\n",
    "\n",
    "    ## Configure 'hybr' method\n",
    "#     _method = 'hybr'\n",
    "#     _method_opts = {'xtol':1.49012e-08, 'maxfev':0, 'factor':100}\n",
    "#     _total_opts = {'method':_method, 'jac':_jac_g, 'options':_method_opts}\n",
    "    \n",
    "    \n",
    "    ## Configure 'broyden1' method\n",
    "    _method = 'broyden1'\n",
    "    _method_opts = {'disp':disp, 'fatol':6e-6}\n",
    "    \n",
    "    if callable(callback):\n",
    "        def _callback(x,f):\n",
    "            callback(x,f)\n",
    "            print(\"[ ] \", tn,xn,dt,_dx0)\n",
    "    else: _callback = None\n",
    "        \n",
    "    _total_opts = {'method':_method, 'options':_method_opts, 'callback':_callback}\n",
    "        \n",
    "    \n",
    "    ## Search for root\n",
    "    _sol = root(_g, _dx0, args=_g_args, **_total_opts)\n",
    "    \n",
    "    \n",
    "    ## Check found root\n",
    "    if _sol.success: return _sol.x\n",
    "    else: raise RuntimeError(\n",
    "        \"Failed to find `dx` with result:\\n{}\".format(_sol))"
   ]
  },
  {
   "cell_type": "markdown",
   "metadata": {},
   "source": [
    "# Define problem"
   ]
  },
  {
   "cell_type": "code",
   "execution_count": 3,
   "metadata": {},
   "outputs": [],
   "source": [
    "def f(t,x):\n",
    "    return x\n",
    "\n",
    "def dx_df(t,x):\n",
    "    return np.full_like(x, 1.0)"
   ]
  },
  {
   "cell_type": "code",
   "execution_count": 4,
   "metadata": {},
   "outputs": [],
   "source": [
    "from numpy import exp\n",
    "def xt_ana(t, x0):\n",
    "    return x0 * exp(t-t[0])"
   ]
  },
  {
   "cell_type": "code",
   "execution_count": 5,
   "metadata": {},
   "outputs": [],
   "source": [
    "DELTA_T_SETUP_MAX_ITER_NUM = 50\n",
    "DELTA_T_REDUCTION_RATIO = 0.8"
   ]
  },
  {
   "cell_type": "markdown",
   "metadata": {},
   "source": [
    "# Solve"
   ]
  },
  {
   "cell_type": "code",
   "execution_count": 6,
   "metadata": {},
   "outputs": [],
   "source": [
    "t0 = 0.0\n",
    "dt = 0.1\n",
    "N_t = 51\n",
    "\n",
    "xp_t0_arr = np.array([-0.5, 0.0, 1.0, 1.5])"
   ]
  },
  {
   "cell_type": "code",
   "execution_count": 7,
   "metadata": {},
   "outputs": [],
   "source": [
    "t_arr = t0 + dt * np.arange(N_t)\n",
    "\n",
    "xp_t_arr = np.empty((t_arr.size, xp_t0_arr.size), dtype=float)\n",
    "xp_t_arr[0,:] = xp_t0_arr\n",
    "\n",
    "Nt, Np = t_arr.size, xp_t0_arr.size"
   ]
  },
  {
   "cell_type": "markdown",
   "metadata": {},
   "source": [
    "#### For Debugging"
   ]
  },
  {
   "cell_type": "code",
   "execution_count": 8,
   "metadata": {},
   "outputs": [],
   "source": [
    "def callback(xx,ff): print(\"[ ] {:.28f}, {:.28f}\".format(xx[0],ff[0]))\n",
    "\n",
    "import warnings\n",
    "warnings.filterwarnings(\"error\")"
   ]
  },
  {
   "cell_type": "markdown",
   "metadata": {},
   "source": [
    "##### Solve for each particle"
   ]
  },
  {
   "cell_type": "code",
   "execution_count": 9,
   "metadata": {},
   "outputs": [],
   "source": [
    "xp_arr = xp_t0_arr.copy()\n",
    "\n",
    "_t = t_arr[0]\n",
    "\n",
    "for nt in range(t_arr.size-1):\n",
    "    \n",
    "    assert abs(_t - t_arr[nt]) < 1e-10\n",
    "    _t = t_arr[nt]\n",
    "    \n",
    "    for nt_sub in range(DELTA_T_SETUP_MAX_ITER_NUM):\n",
    "        _reach_next_t = True\n",
    "        \n",
    "        \n",
    "        ## Determine `_dt`\n",
    "        _dt = t_arr[nt+1] - _t\n",
    "        assert _dt > 0\n",
    "        for xp in xp_arr:\n",
    "            for nt_sub_sub in range(DELTA_T_SETUP_MAX_ITER_NUM):\n",
    "                if 1.0 - _dt*dx_df(t_arr[nt]+_dt,xp) > 0.0: break\n",
    "                print(_dt)\n",
    "                _reach_next_t = False\n",
    "                _dt *= DELTA_T_REDUCTION_RATIO\n",
    "        \n",
    "        \n",
    "        ## Propagate each particle's position by `_dt`\n",
    "        for ip in range(xp_arr.size):\n",
    "            try: _dx = find_dx(f, dx_df, _t, xp_arr[ip], _dt)\n",
    "            except:\n",
    "                try: _dx = find_dx(f, dx_df, _t, xp_arr[ip], _dt, callback=callback, disp=True)\n",
    "                except Exception: pass\n",
    "                _msg=\"Failed to evaluate `_dx` at t={:.4f},xp0={:.4f},xp={:.4f}\"\n",
    "                raise Exception(_msg.format(_t,xp_t0_arr[ip],xp_arr[ip]))\n",
    "            xp_arr[ip] += _dx\n",
    "        _t += _dt\n",
    "        \n",
    "        \n",
    "        ## Repeat the above procedure until time reaches the next timestep\n",
    "        if _reach_next_t: break\n",
    "            \n",
    "            \n",
    "    xp_t_arr[nt+1,:] = xp_arr"
   ]
  },
  {
   "cell_type": "markdown",
   "metadata": {},
   "source": [
    "#### Find analytical solution for each particle"
   ]
  },
  {
   "cell_type": "code",
   "execution_count": 10,
   "metadata": {},
   "outputs": [],
   "source": [
    "xp_t_ana_arr = np.empty_like(xp_t_arr)\n",
    "for ip in range(Np):\n",
    "    xp_t_ana_arr[:,ip] = xt_ana(t_arr, xp_t_arr[0,ip])"
   ]
  },
  {
   "cell_type": "markdown",
   "metadata": {},
   "source": [
    "#### Visualize"
   ]
  },
  {
   "cell_type": "code",
   "execution_count": 11,
   "metadata": {},
   "outputs": [
    {
     "data": {
      "image/png": "[encoded data removed]",
      "text/plain": [
       "<Figure size 432x288 with 1 Axes>"
      ]
     },
     "metadata": {},
     "output_type": "display_data"
    }
   ],
   "source": [
    "fig, ax = plt.subplots()\n",
    "for ip in range(Np):\n",
    "    l_num, = ax.plot(xp_t_arr[:,ip], t_arr, '.')\n",
    "    l_ana, = ax.plot(xp_t_ana_arr[:,ip],t_arr, color=l_num.get_color())\n",
    "ax.set_xlabel(\"x\"), ax.set_ylabel(\"t\")\n",
    "ax.legend([l_num,l_ana], [\"numerical\", \"analytical\"])\n",
    "fig.tight_layout()\n",
    "# fig.savefig(\"f=x-with-dt-{}-test-4.png\".format(dt))"
   ]
  }
 ],
 "metadata": {
  "kernelspec": {
   "display_name": "Python 3",
   "language": "python",
   "name": "python3"
  },
  "language_info": {
   "codemirror_mode": {
    "name": "ipython",
    "version": 3
   },
   "file_extension": ".py",
   "mimetype": "text/x-python",
   "name": "python",
   "nbconvert_exporter": "python",
   "pygments_lexer": "ipython3",
   "version": "3.8.1"
  }
 },
 "nbformat": 4,
 "nbformat_minor": 2
}
