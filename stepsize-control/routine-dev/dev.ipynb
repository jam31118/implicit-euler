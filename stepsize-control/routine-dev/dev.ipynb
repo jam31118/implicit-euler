{
 "cells": [
  {
   "cell_type": "code",
   "execution_count": 1,
   "metadata": {},
   "outputs": [],
   "source": [
    "import numpy as np\n",
    "\n",
    "import matplotlib.pyplot as plt"
   ]
  },
  {
   "cell_type": "markdown",
   "metadata": {},
   "source": [
    "# [TODO][IMPORTANT] Always, the convergence of solution with respect to the time steps is crucial"
   ]
  },
  {
   "cell_type": "code",
   "execution_count": 2,
   "metadata": {},
   "outputs": [],
   "source": [
    "def f(t,x):\n",
    "    return x\n",
    "\n",
    "def dx_df(t,x):\n",
    "    return 1.0"
   ]
  },
  {
   "cell_type": "code",
   "execution_count": 3,
   "metadata": {},
   "outputs": [],
   "source": [
    "from numpy import exp\n",
    "def xt_ana(t, x0):\n",
    "    return x0 * exp(t-t[0])"
   ]
  },
  {
   "cell_type": "code",
   "execution_count": 4,
   "metadata": {},
   "outputs": [],
   "source": [
    "DELTA_T_SETUP_MAX_ITER_NUM = 50\n",
    "DELTA_T_REDUCTION_RATIO = 0.5"
   ]
  },
  {
   "cell_type": "code",
   "execution_count": 5,
   "metadata": {},
   "outputs": [],
   "source": [
    "def find_dt(tn, xn, dx_df, dt_max, DELTA_T_SETUP_MAX_ITER_NUM, \n",
    "            DELTA_T_REDUCTION_RATIO):\n",
    "    \"\"\"Find time to proceed by the implicit Euler method\n",
    "    \n",
    "    Notes\n",
    "    -----\n",
    "    This routine find a time to proceed `delta_t` that satisfies\n",
    "    `1.0 - _delta_t * dx_df(tn+_delta_t, xn) > 0`\n",
    "    \"\"\"\n",
    "    \n",
    "    # Iterate until the criterion is fulfilled\n",
    "    _dt = dt_max\n",
    "    for _i in range(DELTA_T_SETUP_MAX_ITER_NUM):\n",
    "        if 1.0 - _dt * dx_df(tn+_dt, xn) > 0.0: break\n",
    "        _dt *= DELTA_T_REDUCTION_RATIO\n",
    "        \n",
    "    # Check iteration has been completed normally\n",
    "    if _i == DELTA_T_SETUP_MAX_ITER_NUM - 1: \n",
    "        _msg = \"DELTA_T_SETUP_MAX_ITER_NUM(={}) reached\"\n",
    "        raise Exception(_msg.format(DELTA_T_SETUP_MAX_ITER_NUM))\n",
    "    elif _i > DELTA_T_SETUP_MAX_ITER_NUM - 1: \n",
    "        _msg = (\"Unexpected case: index exceeded \"\n",
    "                \"DELTA_T_SETUP_MAX_ITER_NUM(={})\")\n",
    "        raise Exception(_msg.format(DELTA_T_SETUP_MAX_ITER_NUM))\n",
    "        \n",
    "    # Return the result\n",
    "    return _dt"
   ]
  },
  {
   "cell_type": "markdown",
   "metadata": {},
   "source": [
    "# [TODO] Possible improvement:\n",
    "\n",
    "- the initial guess when finding the root during `find_dx()`\n",
    "- put `jac` for finding root during `find_dx()`"
   ]
  },
  {
   "cell_type": "code",
   "execution_count": 6,
   "metadata": {},
   "outputs": [],
   "source": [
    "from scipy.optimize import root\n",
    "\n",
    "def find_dx(f, tn, xn, dt):\n",
    "    \"\"\"Find `dx` such that `x_{n+1} = x_{n} + dx`\"\"\"\n",
    "    \n",
    "    def _g(_dx, _f, _tn, _xn, _dt):\n",
    "        return -_dx + _dt * _f(_tn+_dt,_xn+_dx)\n",
    "    _dx0 = 0.0\n",
    "    _g_args = (f, tn, xn, dt)\n",
    "    _sol = root(_g, _dx0, args=_g_args, method='hybr', jac=None, \n",
    "                options={'xtol':1.49012e-08, 'maxfev':0, 'factor':100})\n",
    "    \n",
    "    if _sol.success: return _sol.x\n",
    "    else: raise RuntimeError(\n",
    "        \"Failed to find `dx` with result:\\n{}\".format(_sol))"
   ]
  },
  {
   "cell_type": "markdown",
   "metadata": {},
   "source": [
    "# Solve"
   ]
  },
  {
   "cell_type": "code",
   "execution_count": 7,
   "metadata": {},
   "outputs": [],
   "source": [
    "t0 = 0.0\n",
    "dt = 0.05\n",
    "N_t = 101\n",
    "\n",
    "xp_t0_arr = np.array([-0.5, 0.0, 1.0, 1.5])"
   ]
  },
  {
   "cell_type": "code",
   "execution_count": 8,
   "metadata": {},
   "outputs": [],
   "source": [
    "t_arr = t0 + dt * np.arange(N_t)\n",
    "\n",
    "xp_arr = xp_t0_arr.copy()\n",
    "\n",
    "xp_t_arr = np.empty((t_arr.size, xp_arr.size), dtype=float)\n",
    "xp_t_arr[0,:] = xp_t0_arr\n",
    "\n",
    "Nt, Np = t_arr.size, xp_arr.size"
   ]
  },
  {
   "cell_type": "code",
   "execution_count": 9,
   "metadata": {},
   "outputs": [],
   "source": [
    "for nt in range(t_arr.size-1):\n",
    "    _t = t_arr[nt]\n",
    "#     _dt_max = t_arr[nt+1] - t_arr[nt]\n",
    "    for nt_sub in range(DELTA_T_SETUP_MAX_ITER_NUM):\n",
    "        _reach_next_t = True\n",
    "        _dt = t_arr[nt+1] - _t\n",
    "        for xp in xp_arr:\n",
    "            for nt_sub_sub in range(DELTA_T_SETUP_MAX_ITER_NUM):\n",
    "                if 1.0 - _dt*dx_df(t_arr[nt]+_dt,xp) > 0.0: break\n",
    "                _reach_next_t = False\n",
    "                _dt *= DELTA_T_REDUCTION_RATIO\n",
    "        for ip in range(xp_arr.size):\n",
    "            _dx = find_dx(f, _t, xp_arr[ip], _dt)\n",
    "            xp_arr[ip] += _dx\n",
    "        _t += _dt\n",
    "        if _reach_next_t: break\n",
    "    xp_t_arr[nt+1,:] = xp_arr"
   ]
  },
  {
   "cell_type": "code",
   "execution_count": 10,
   "metadata": {},
   "outputs": [],
   "source": [
    "xp_t_ana_arr = np.empty_like(xp_t_arr)\n",
    "for ip in range(Np):\n",
    "    xp_t_ana_arr[:,ip] = xt_ana(t_arr, xp_t_arr[0,ip])"
   ]
  },
  {
   "cell_type": "code",
   "execution_count": 11,
   "metadata": {},
   "outputs": [
    {
     "data": {
      "image/png": "[encoded data removed]",
      "text/plain": [
       "<Figure size 432x288 with 1 Axes>"
      ]
     },
     "metadata": {},
     "output_type": "display_data"
    }
   ],
   "source": [
    "fig, ax = plt.subplots()\n",
    "for ip in range(Np):\n",
    "    l_num, = ax.plot(xp_t_arr[:,ip], t_arr, '.')\n",
    "    l_ana, = ax.plot(xp_t_ana_arr[:,ip],t_arr, color=l_num.get_color())\n",
    "ax.set_xlabel(\"x\"), ax.set_ylabel(\"t\")\n",
    "ax.legend([l_num,l_ana], [\"numerical\", \"analytical\"])\n",
    "fig.tight_layout()\n",
    "# fig.savefig(\"f=x-with-dt-{}-test-3.png\".format(dt))"
   ]
  }
 ],
 "metadata": {
  "kernelspec": {
   "display_name": "Python 3",
   "language": "python",
   "name": "python3"
  },
  "language_info": {
   "codemirror_mode": {
    "name": "ipython",
    "version": 3
   },
   "file_extension": ".py",
   "mimetype": "text/x-python",
   "name": "python",
   "nbconvert_exporter": "python",
   "pygments_lexer": "ipython3",
   "version": "3.6.0"
  }
 },
 "nbformat": 4,
 "nbformat_minor": 2
}
