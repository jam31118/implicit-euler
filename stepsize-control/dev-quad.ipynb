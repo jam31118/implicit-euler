{
 "cells": [
  {
   "cell_type": "markdown",
   "metadata": {},
   "source": [
    "### replace default value of argument (e.g. `gamma`, `hi_min`) to defined values in module file"
   ]
  },
  {
   "cell_type": "code",
   "execution_count": 24,
   "metadata": {},
   "outputs": [],
   "source": [
    "import numpy as np\n",
    "import matplotlib.pyplot as plt"
   ]
  },
  {
   "cell_type": "code",
   "execution_count": 49,
   "metadata": {},
   "outputs": [],
   "source": [
    "from math import sqrt\n",
    "from numbers import Real\n",
    "\n",
    "def get_stepsize_quad(ti, xi, Fx, dxFx, dx2Fx, hi_max,\n",
    "                     gamma = 0.8, hi_min = 0.005, forward=True):\n",
    "    \n",
    "    if not forward: raise NotImplementedError(\n",
    "        \"backward time flow hasn't been dealt yet\")\n",
    "    assert isinstance(gamma, Real) and (0 < gamma) and (gamma < 1)\n",
    "    \n",
    "    _hi_guess = None\n",
    "    \n",
    "    ## initial guess of stepsize\n",
    "    _F_tixi, _dxFx_tixi, _dx2Fx_tixi = Fx(ti,xi), dxFx(ti,xi), dx2Fx(ti,xi)\n",
    "    _a1_0 = _dxFx_tixi*_dxFx_tixi - 2.0 * _dx2Fx_tixi * _F_tixi\n",
    "    _a2_0 = _dxFx_tixi\n",
    "    _D_D = _a2_0 * _a2_0 - _a1_0\n",
    "    \n",
    "    if _a1_0 > 0:\n",
    "        if _a2_0 <= 0: _hi_guess = hi_max\n",
    "        else:\n",
    "            if _D_D >= 0: _hi_guess = gamma * _a2_0 / _a1_0\n",
    "            else: _hi_guess = hi_max\n",
    "    elif _a1_0 < 0: _hi_guess = gamma * (_a2_0 + sqrt(_D_D)) / (2.0 * _a1_0)\n",
    "    elif _a1_0 == 0:\n",
    "        if _a2_0 > 0: _hi_guess = gamma / (2.0 * _a2_0)\n",
    "        else: _hi_guess = hi_max\n",
    "    else: raise Exception(\"Unexpected\")\n",
    "    \n",
    "    assert isinstance(_hi_guess, Real)\n",
    "\n",
    "    \n",
    "    ## fine-tune\n",
    "    _a1, _a2 = _a1_0, _a2_0\n",
    "    while _hi_guess > hi_min:\n",
    "        _D_hi = _a1 * _hi_guess*_hi_guess - 2.0 * _a2 * _hi_guess + 1\n",
    "        if _D_hi > 0: break\n",
    "        _ti = ti + _hi_guess\n",
    "        _F, _dxFx, _dx2Fx = Fx(_ti,xi), dxFx(_ti,xi), dx2Fx(_ti,xi)\n",
    "        _a1 = _dxFx*_dxFx - 2.0 * _dx2Fx * _F\n",
    "        _a2 = _dxFx\n",
    "        _hi_guess *= gamma\n",
    "    \n",
    "    if (_hi_guess <= hi_min):\n",
    "        raise Exception(\"hi_min reached - couldn't find good stepsize\")         \n",
    "    _hi = min(_hi_guess, hi_max)\n",
    "    \n",
    "    return _hi"
   ]
  },
  {
   "cell_type": "code",
   "execution_count": 50,
   "metadata": {},
   "outputs": [],
   "source": [
    "import numpy as np\n",
    "from scipy.optimize import root\n",
    "\n",
    "def back_euler_quad(t0, x0, t_max, Fx, dxFx, dx2Fx, hi_max, **stepsize_kwarg):              \n",
    "    _t_list = [t0]\n",
    "    _x_list = [x0]\n",
    "\n",
    "    while _t_list[-1] < t_max:\n",
    "        _ti, _xi = _t_list[-1], _x_list[-1]\n",
    "        _hi = get_stepsize_quad(_ti, _xi, Fx, dxFx, dx2Fx, hi_max, **stepsize_kwarg)        \n",
    "        _t_next = _ti + _hi\n",
    "        def _Gx(x): return (x - _xi) - _hi * Fx(_t_next, x)\n",
    "        _sol = root(_Gx, _xi)  # jacobian may be supplied\n",
    "        if _sol.success and _sol.x.size == 1: _x_next, = _sol.x\n",
    "        else: raise Exception(\n",
    "            \"unique root search failed due to '{}'\".format(_sol.message))       \n",
    "        _t_list.append(_t_next), _x_list.append(_x_next)\n",
    "\n",
    "    _t_arr, _x_arr = np.array(_t_list), np.array(_x_list)\n",
    "    return _t_arr, _x_arr\n"
   ]
  },
  {
   "cell_type": "code",
   "execution_count": 51,
   "metadata": {},
   "outputs": [],
   "source": [
    "c0, c1 = 0.2, 1.0\n",
    "def Fx(t, x): return c0 + c1*x\n",
    "def dxFx(t, x): return c1\n",
    "def dx2Fx(t, x): return 0.0\n",
    "\n",
    "t0, x0 = -0.5, -1.1"
   ]
  },
  {
   "cell_type": "code",
   "execution_count": 8,
   "metadata": {},
   "outputs": [
    {
     "data": {
      "text/plain": [
       "0.8"
      ]
     },
     "execution_count": 8,
     "metadata": {},
     "output_type": "execute_result"
    }
   ],
   "source": [
    "get_stepsize_quad(t0, x0, Fx, dxFx, dx2Fx, hi_max=1.0)"
   ]
  },
  {
   "cell_type": "code",
   "execution_count": 74,
   "metadata": {},
   "outputs": [],
   "source": [
    "from matplotlib import rcParams\n",
    "rcParams['font.size'] = 15"
   ]
  },
  {
   "cell_type": "code",
   "execution_count": 83,
   "metadata": {},
   "outputs": [],
   "source": [
    "def Fx(t, x): return x*x\n",
    "def dxFx(t, x): return 2.0*x\n",
    "def dx2Fx(t, x): return 2.0\n",
    "\n",
    "t0, x0 = -0.5, 1.1\n",
    "t_max = 0.0\n",
    "h_max = 0.01\n",
    "\n",
    "def x_analytic(t): return - 1.0 / (t - t0 - 1.0/x0)\n",
    "\n",
    "t_arr, x_arr = back_euler_quad(t0, x0, t_max, Fx, dxFx, dx2Fx, hi_max=h_max)\n",
    "f_arr = x_analytic(t_arr)"
   ]
  },
  {
   "cell_type": "code",
   "execution_count": 84,
   "metadata": {},
   "outputs": [
    {
     "data": {
      "text/plain": [
       "<matplotlib.legend.Legend at 0x7f6e4f081160>"
      ]
     },
     "execution_count": 84,
     "metadata": {},
     "output_type": "execute_result"
    },
    {
     "data": {
      "image/png": "[encoded data removed]",
      "text/plain": [
       "<Figure size 432x288 with 1 Axes>"
      ]
     },
     "metadata": {},
     "output_type": "display_data"
    }
   ],
   "source": [
    "fig, ax = plt.subplots()\n",
    "\n",
    "l_ana, = ax.plot(t_arr, f_arr)\n",
    "l_num, = ax.plot(t_arr, x_arr)\n",
    "\n",
    "ax.plot(t0, x0, 'o')\n",
    "\n",
    "ax.set_title(\"`h_max`={}\".format(h_max))\n",
    "ax.legend((l_ana, l_num), (\"analytic\", \"numeric\"))\n",
    "\n",
    "# ax.set_ylim(-1000,0)"
   ]
  },
  {
   "cell_type": "code",
   "execution_count": 85,
   "metadata": {},
   "outputs": [],
   "source": [
    "# fig.savefig(\"step-esti-quad-hmax-{}-test-0.png\".format(h_max))"
   ]
  },
  {
   "cell_type": "code",
   "execution_count": 10,
   "metadata": {},
   "outputs": [
    {
     "data": {
      "text/plain": [
       "0.18181818181818182"
      ]
     },
     "execution_count": 10,
     "metadata": {},
     "output_type": "execute_result"
    }
   ],
   "source": [
    "get_stepsize_quad(t0, x0, Fx, dxFx, dx2Fx, hi_max=1.0)"
   ]
  }
 ],
 "metadata": {
  "kernelspec": {
   "display_name": "Python 3",
   "language": "python",
   "name": "python3"
  },
  "language_info": {
   "codemirror_mode": {
    "name": "ipython",
    "version": 3
   },
   "file_extension": ".py",
   "mimetype": "text/x-python",
   "name": "python",
   "nbconvert_exporter": "python",
   "pygments_lexer": "ipython3",
   "version": "3.6.0"
  }
 },
 "nbformat": 4,
 "nbformat_minor": 2
}
