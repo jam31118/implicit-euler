{
 "cells": [
  {
   "cell_type": "code",
   "execution_count": 1,
   "metadata": {},
   "outputs": [],
   "source": [
    "import numpy as np\n",
    "from numpy import pi\n",
    "import matplotlib.pyplot as plt"
   ]
  },
  {
   "cell_type": "markdown",
   "metadata": {},
   "source": [
    "#### Define propagator"
   ]
  },
  {
   "cell_type": "code",
   "execution_count": 2,
   "metadata": {},
   "outputs": [
    {
     "data": {
      "text/plain": [
       "<module 'tdse.propagator.polar' from '/home/ahn/Dropbox/py/proj/tdse/tdse/propagator/polar.py'>"
      ]
     },
     "execution_count": 2,
     "metadata": {},
     "output_type": "execute_result"
    }
   ],
   "source": [
    "import tdse.propagator.polar\n",
    "from importlib import reload\n",
    "reload(tdse.propagator.polar)"
   ]
  },
  {
   "cell_type": "code",
   "execution_count": 3,
   "metadata": {},
   "outputs": [
    {
     "data": {
      "text/plain": [
       "<module 'scipy.optimize.nonlin' from '/home/ahn/py/venv/sci/lib/python3.8/site-packages/scipy/optimize/nonlin.py'>"
      ]
     },
     "execution_count": 3,
     "metadata": {},
     "output_type": "execute_result"
    }
   ],
   "source": [
    "import scipy.optimize.nonlin\n",
    "reload(scipy.optimize.nonlin)"
   ]
  },
  {
   "cell_type": "code",
   "execution_count": 4,
   "metadata": {},
   "outputs": [],
   "source": [
    "from tdse.propagator.polar import Propagator_on_Uniform_Grid_Polar_Box_Over_r\n",
    "prop = Propagator_on_Uniform_Grid_Polar_Box_Over_r(Nr=101, dr=0.2, m_max=0)"
   ]
  },
  {
   "cell_type": "markdown",
   "metadata": {},
   "source": [
    "#### Prepare initial state of wavefunction"
   ]
  },
  {
   "cell_type": "code",
   "execution_count": 5,
   "metadata": {},
   "outputs": [
    {
     "name": "stdout",
     "output_type": "stream",
     "text": [
      "iteration count at end: 605\n"
     ]
    }
   ],
   "source": [
    "wf_t0 = np.empty(prop.wf_shape, dtype=np.complex)\n",
    "wf_t0[:] = np.random.rand(*prop.wf_shape)\n",
    "prop.propagate_to_ground_state(wf_t0)"
   ]
  },
  {
   "cell_type": "code",
   "execution_count": 7,
   "metadata": {},
   "outputs": [
    {
     "data": {
      "image/png": "[encoded data removed]",
      "text/plain": [
       "<Figure size 432x288 with 1 Axes>"
      ]
     },
     "metadata": {
      "needs_background": "light"
     },
     "output_type": "display_data"
    }
   ],
   "source": [
    "fig, ax = plt.subplots()\n",
    "for im in range(prop.Nm):\n",
    "    ax.plot(prop.r_arr, wf_t0[im].real)"
   ]
  },
  {
   "cell_type": "markdown",
   "metadata": {},
   "source": [
    "#### Prepare initial positions of particles in polar coordinates"
   ]
  },
  {
   "cell_type": "code",
   "execution_count": 8,
   "metadata": {},
   "outputs": [],
   "source": [
    "qvec_t0_arr = [[2.1, 0.0], [5.6, pi/2.]]\n",
    "Nq = len(qvec_t0_arr)"
   ]
  },
  {
   "cell_type": "markdown",
   "metadata": {},
   "source": [
    "#### Configure time array"
   ]
  },
  {
   "cell_type": "code",
   "execution_count": 9,
   "metadata": {},
   "outputs": [],
   "source": [
    "dt, Nt = 0.05, 101\n",
    "t_arr = dt * np.arange(Nt)"
   ]
  },
  {
   "cell_type": "markdown",
   "metadata": {},
   "source": [
    "# Propagate Bohmian particles"
   ]
  },
  {
   "cell_type": "code",
   "execution_count": 10,
   "metadata": {},
   "outputs": [],
   "source": [
    "def impli_eq(dq, q, dt, Rm_rn, prop):\n",
    "    \"\"\"An equation for propagation in implicite Euler method\"\"\"\n",
    "    \n",
    "    _dq, _q = (np.asarray(_a) for _a in (dq, q))\n",
    "    _q_next = _q + _dq\n",
    "    _wf, _dr_wf, _dphi_wf = prop.wf_class.eval_wf_with_wf_deriv_at_q(_q_next, Rm_rn, prop.dr)\n",
    "    \n",
    "    _dr, _dphi = _dq\n",
    "    _eq = np.empty_like(q, dtype=np.float)\n",
    "    _eq[0] = _dq[0] + dt * prop.hbar/prop.mass * np.imag(_dr_wf/_wf)\n",
    "    _eq[1] = _dq[1] * _q_next[0]**2 + dt * prop.hbar/prop.mass * np.imag(_dphi_wf/_wf)\n",
    "    \n",
    "    return _eq"
   ]
  },
  {
   "cell_type": "code",
   "execution_count": 11,
   "metadata": {},
   "outputs": [],
   "source": [
    "wf = np.empty_like(wf_t0, dtype=np.complex)\n",
    "wf[:] = wf_t0\n",
    "\n",
    "qvec_arr = np.empty_like(qvec_t0_arr)\n",
    "qvec_arr[:] = qvec_t0_arr\n",
    "\n",
    "from scipy.optimize import root\n",
    "\n",
    "for it in range(t_arr.size-1):\n",
    "    dt = t_arr[it+1] - t_arr[it]\n",
    "    prop.propagate(wf, dt, Nt=1)\n",
    "    Rm_rn = prop.wf_class.wf2Rm(wf)\n",
    "    \n",
    "    for iq in range(Nq):\n",
    "        q = qvec_arr[iq]\n",
    "        r, phi = q\n",
    "        \n",
    "        broyden1_opts = {'xtol':1.0, 'uppers':(prop.r_max-r, pi), 'lowers':(-prop.r_max-r, -pi)}\n",
    "        opts = {'method':'broyden1', 'options':broyden1_opts}\n",
    "        dq0 = np.zeros_like(q)\n",
    "        impli_eq_args = (q, dt, Rm_rn, prop)\n",
    "        sol = root(impli_eq, dq0, args=impli_eq_args, **opts)\n",
    "        dq = sol.x\n",
    "        \n",
    "        qvec_arr[iq] += dq"
   ]
  },
  {
   "cell_type": "code",
   "execution_count": 12,
   "metadata": {},
   "outputs": [
    {
     "data": {
      "text/plain": [
       "[[2.1, 0.0], [5.6, 1.5707963267948966]]"
      ]
     },
     "execution_count": 12,
     "metadata": {},
     "output_type": "execute_result"
    }
   ],
   "source": [
    "qvec_t0_arr"
   ]
  },
  {
   "cell_type": "code",
   "execution_count": 13,
   "metadata": {},
   "outputs": [
    {
     "data": {
      "text/plain": [
       "array([[2.11362661, 0.        ],\n",
       "       [5.61294405, 1.57079633]])"
      ]
     },
     "execution_count": 13,
     "metadata": {},
     "output_type": "execute_result"
    }
   ],
   "source": [
    "qvec_arr"
   ]
  }
 ],
 "metadata": {
  "kernelspec": {
   "display_name": "Python 3",
   "language": "python",
   "name": "python3"
  },
  "language_info": {
   "codemirror_mode": {
    "name": "ipython",
    "version": 3
   },
   "file_extension": ".py",
   "mimetype": "text/x-python",
   "name": "python",
   "nbconvert_exporter": "python",
   "pygments_lexer": "ipython3",
   "version": "3.8.1"
  }
 },
 "nbformat": 4,
 "nbformat_minor": 4
}
